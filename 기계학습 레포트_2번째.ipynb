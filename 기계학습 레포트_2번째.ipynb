{
 "cells": [
  {
   "cell_type": "code",
   "execution_count": 80,
   "metadata": {},
   "outputs": [
    {
     "name": "stdout",
     "output_type": "stream",
     "text": [
      "C:/Users/아이루디/Downloads/titanic\\gender_submission.csv\n",
      "C:/Users/아이루디/Downloads/titanic\\test.csv\n",
      "C:/Users/아이루디/Downloads/titanic\\train.csv\n"
     ]
    }
   ],
   "source": [
    "import seaborn as sns\n",
    "import numpy as np # linear algebra\n",
    "import pandas as pd # data processing, CSV file I/O (e.g. pd.read_csv)\n",
    "import matplotlib.pyplot as plt\n",
    "\n",
    "from sklearn.model_selection import train_test_split\n",
    "from sklearn.preprocessing import StandardScaler \n",
    "from sklearn.svm import SVC\n",
    "from sklearn.linear_model import LogisticRegression\n",
    "from sklearn.neighbors import KNeighborsClassifier\n",
    "from sklearn import tree\n",
    "from sklearn.ensemble import RandomForestRegressor\n",
    "from sklearn.neighbors import KNeighborsClassifier\n",
    "from sklearn.naive_bayes import GaussianNB\n",
    "from sklearn.ensemble import GradientBoostingClassifier\n",
    "from xgboost import XGBClassifier\n",
    "from sklearn.ensemble import AdaBoostClassifier\n",
    "from sklearn.neural_network import MLPClassifier\n",
    "\n",
    "import seaborn as sns\n",
    "plt.style.use('fivethirtyeight')\n",
    "import warnings\n",
    "warnings.filterwarnings('ignore')\n",
    "%matplotlib inline\n",
    "from matplotlib import font_manager, rc\n",
    "font_name = font_manager.FontProperties(fname='c:/Windows/Fonts/malgun.ttf').get_name()\n",
    "rc('font', family=font_name)\n",
    "\n",
    "import os\n",
    "for dirname, _, filenames in os.walk('C:/Users/아이루디/Downloads/titanic'):\n",
    "    for filename in filenames:\n",
    "        print(os.path.join(dirname, filename))"
   ]
  },
  {
   "cell_type": "code",
   "execution_count": 81,
   "metadata": {},
   "outputs": [
    {
     "data": {
      "text/html": [
       "<div>\n",
       "<style scoped>\n",
       "    .dataframe tbody tr th:only-of-type {\n",
       "        vertical-align: middle;\n",
       "    }\n",
       "\n",
       "    .dataframe tbody tr th {\n",
       "        vertical-align: top;\n",
       "    }\n",
       "\n",
       "    .dataframe thead th {\n",
       "        text-align: right;\n",
       "    }\n",
       "</style>\n",
       "<table border=\"1\" class=\"dataframe\">\n",
       "  <thead>\n",
       "    <tr style=\"text-align: right;\">\n",
       "      <th></th>\n",
       "      <th>PassengerId</th>\n",
       "      <th>Survived</th>\n",
       "      <th>Pclass</th>\n",
       "      <th>Name</th>\n",
       "      <th>Sex</th>\n",
       "      <th>Age</th>\n",
       "      <th>SibSp</th>\n",
       "      <th>Parch</th>\n",
       "      <th>Ticket</th>\n",
       "      <th>Fare</th>\n",
       "      <th>Cabin</th>\n",
       "      <th>Embarked</th>\n",
       "    </tr>\n",
       "  </thead>\n",
       "  <tbody>\n",
       "    <tr>\n",
       "      <th>0</th>\n",
       "      <td>1</td>\n",
       "      <td>0</td>\n",
       "      <td>3</td>\n",
       "      <td>Braund, Mr. Owen Harris</td>\n",
       "      <td>male</td>\n",
       "      <td>22.0</td>\n",
       "      <td>1</td>\n",
       "      <td>0</td>\n",
       "      <td>A/5 21171</td>\n",
       "      <td>7.2500</td>\n",
       "      <td>NaN</td>\n",
       "      <td>S</td>\n",
       "    </tr>\n",
       "    <tr>\n",
       "      <th>1</th>\n",
       "      <td>2</td>\n",
       "      <td>1</td>\n",
       "      <td>1</td>\n",
       "      <td>Cumings, Mrs. John Bradley (Florence Briggs Th...</td>\n",
       "      <td>female</td>\n",
       "      <td>38.0</td>\n",
       "      <td>1</td>\n",
       "      <td>0</td>\n",
       "      <td>PC 17599</td>\n",
       "      <td>71.2833</td>\n",
       "      <td>C85</td>\n",
       "      <td>C</td>\n",
       "    </tr>\n",
       "    <tr>\n",
       "      <th>2</th>\n",
       "      <td>3</td>\n",
       "      <td>1</td>\n",
       "      <td>3</td>\n",
       "      <td>Heikkinen, Miss. Laina</td>\n",
       "      <td>female</td>\n",
       "      <td>26.0</td>\n",
       "      <td>0</td>\n",
       "      <td>0</td>\n",
       "      <td>STON/O2. 3101282</td>\n",
       "      <td>7.9250</td>\n",
       "      <td>NaN</td>\n",
       "      <td>S</td>\n",
       "    </tr>\n",
       "    <tr>\n",
       "      <th>3</th>\n",
       "      <td>4</td>\n",
       "      <td>1</td>\n",
       "      <td>1</td>\n",
       "      <td>Futrelle, Mrs. Jacques Heath (Lily May Peel)</td>\n",
       "      <td>female</td>\n",
       "      <td>35.0</td>\n",
       "      <td>1</td>\n",
       "      <td>0</td>\n",
       "      <td>113803</td>\n",
       "      <td>53.1000</td>\n",
       "      <td>C123</td>\n",
       "      <td>S</td>\n",
       "    </tr>\n",
       "    <tr>\n",
       "      <th>4</th>\n",
       "      <td>5</td>\n",
       "      <td>0</td>\n",
       "      <td>3</td>\n",
       "      <td>Allen, Mr. William Henry</td>\n",
       "      <td>male</td>\n",
       "      <td>35.0</td>\n",
       "      <td>0</td>\n",
       "      <td>0</td>\n",
       "      <td>373450</td>\n",
       "      <td>8.0500</td>\n",
       "      <td>NaN</td>\n",
       "      <td>S</td>\n",
       "    </tr>\n",
       "  </tbody>\n",
       "</table>\n",
       "</div>"
      ],
      "text/plain": [
       "   PassengerId  Survived  Pclass  \\\n",
       "0            1         0       3   \n",
       "1            2         1       1   \n",
       "2            3         1       3   \n",
       "3            4         1       1   \n",
       "4            5         0       3   \n",
       "\n",
       "                                                Name     Sex   Age  SibSp  \\\n",
       "0                            Braund, Mr. Owen Harris    male  22.0      1   \n",
       "1  Cumings, Mrs. John Bradley (Florence Briggs Th...  female  38.0      1   \n",
       "2                             Heikkinen, Miss. Laina  female  26.0      0   \n",
       "3       Futrelle, Mrs. Jacques Heath (Lily May Peel)  female  35.0      1   \n",
       "4                           Allen, Mr. William Henry    male  35.0      0   \n",
       "\n",
       "   Parch            Ticket     Fare Cabin Embarked  \n",
       "0      0         A/5 21171   7.2500   NaN        S  \n",
       "1      0          PC 17599  71.2833   C85        C  \n",
       "2      0  STON/O2. 3101282   7.9250   NaN        S  \n",
       "3      0            113803  53.1000  C123        S  \n",
       "4      0            373450   8.0500   NaN        S  "
      ]
     },
     "execution_count": 81,
     "metadata": {},
     "output_type": "execute_result"
    }
   ],
   "source": [
    "train=pd.read_csv('C:/Users/아이루디/Downloads/titanic/train.csv')\n",
    "train.head()"
   ]
  },
  {
   "cell_type": "code",
   "execution_count": 82,
   "metadata": {},
   "outputs": [
    {
     "name": "stdout",
     "output_type": "stream",
     "text": [
      "<class 'pandas.core.frame.DataFrame'>\n",
      "RangeIndex: 891 entries, 0 to 890\n",
      "Data columns (total 12 columns):\n",
      " #   Column       Non-Null Count  Dtype  \n",
      "---  ------       --------------  -----  \n",
      " 0   PassengerId  891 non-null    int64  \n",
      " 1   Survived     891 non-null    int64  \n",
      " 2   Pclass       891 non-null    int64  \n",
      " 3   Name         891 non-null    object \n",
      " 4   Sex          891 non-null    object \n",
      " 5   Age          714 non-null    float64\n",
      " 6   SibSp        891 non-null    int64  \n",
      " 7   Parch        891 non-null    int64  \n",
      " 8   Ticket       891 non-null    object \n",
      " 9   Fare         891 non-null    float64\n",
      " 10  Cabin        204 non-null    object \n",
      " 11  Embarked     889 non-null    object \n",
      "dtypes: float64(2), int64(5), object(5)\n",
      "memory usage: 83.7+ KB\n"
     ]
    }
   ],
   "source": [
    "#타이타닉 train  데이터의 정보 살펴보기\n",
    "train.info()"
   ]
  },
  {
   "cell_type": "code",
   "execution_count": 83,
   "metadata": {},
   "outputs": [
    {
     "data": {
      "text/plain": [
       "PassengerId      0\n",
       "Survived         0\n",
       "Pclass           0\n",
       "Name             0\n",
       "Sex              0\n",
       "Age            177\n",
       "SibSp            0\n",
       "Parch            0\n",
       "Ticket           0\n",
       "Fare             0\n",
       "Cabin          687\n",
       "Embarked         2\n",
       "dtype: int64"
      ]
     },
     "execution_count": 83,
     "metadata": {},
     "output_type": "execute_result"
    }
   ],
   "source": [
    "#타이타닉 train 데이터의 결측치 체크 \n",
    "#Age, Cabin , Embarked 에 null 데이터가 존재한다.\n",
    "train.isnull().sum()"
   ]
  },
  {
   "cell_type": "code",
   "execution_count": 84,
   "metadata": {},
   "outputs": [
    {
     "name": "stdout",
     "output_type": "stream",
     "text": [
      "데이터 수: 891 특성 수: 12\n"
     ]
    }
   ],
   "source": [
    "print('데이터 수:',train.shape[0], '특성 수:',train.shape[1])"
   ]
  },
  {
   "cell_type": "code",
   "execution_count": 85,
   "metadata": {
    "scrolled": true
   },
   "outputs": [
    {
     "data": {
      "image/png": "[encoded data removed]",
      "text/plain": [
       "<Figure size 1296x576 with 2 Axes>"
      ]
     },
     "metadata": {
      "needs_background": "light"
     },
     "output_type": "display_data"
    }
   ],
   "source": [
    "#일단 target인 생존 비율을 살펴보자.\n",
    "f,ax=plt.subplots(1,2,figsize=(18,8))\n",
    "train['Survived'].value_counts().plot.pie(explode=[0,0.1],autopct='%1.1f%%',ax=ax[0],shadow=True)\n",
    "ax[0].set_title('전체 생존비율')\n",
    "ax[0].set_ylabel('')\n",
    "sns.countplot(x='Survived',data=train,ax=ax[1])\n",
    "ax[1].set_title('전체 생존비율')\n",
    "plt.show()"
   ]
  },
  {
   "cell_type": "code",
   "execution_count": 86,
   "metadata": {
    "scrolled": true
   },
   "outputs": [
    {
     "data": {
      "text/plain": [
       "Sex     Survived\n",
       "female  0            81\n",
       "        1           233\n",
       "male    0           468\n",
       "        1           109\n",
       "Name: Survived, dtype: int64"
      ]
     },
     "execution_count": 86,
     "metadata": {},
     "output_type": "execute_result"
    }
   ],
   "source": [
    "#성에 따른 생존 수 비교\n",
    "train.groupby(['Sex','Survived'])['Survived'].count()"
   ]
  },
  {
   "cell_type": "code",
   "execution_count": 87,
   "metadata": {},
   "outputs": [
    {
     "data": {
      "text/html": [
       "<style  type=\"text/css\" >\n",
       "#T_859ae451_b626_11eb_980c_1831bf4eb6f5row0_col0,#T_859ae451_b626_11eb_980c_1831bf4eb6f5row0_col2,#T_859ae451_b626_11eb_980c_1831bf4eb6f5row1_col1{\n",
       "            background-color:  #f7fbff;\n",
       "            color:  #000000;\n",
       "        }#T_859ae451_b626_11eb_980c_1831bf4eb6f5row0_col1{\n",
       "            background-color:  #60a7d2;\n",
       "            color:  #000000;\n",
       "        }#T_859ae451_b626_11eb_980c_1831bf4eb6f5row1_col0{\n",
       "            background-color:  #125da6;\n",
       "            color:  #f1f1f1;\n",
       "        }#T_859ae451_b626_11eb_980c_1831bf4eb6f5row1_col2{\n",
       "            background-color:  #7db8da;\n",
       "            color:  #000000;\n",
       "        }#T_859ae451_b626_11eb_980c_1831bf4eb6f5row2_col0,#T_859ae451_b626_11eb_980c_1831bf4eb6f5row2_col1,#T_859ae451_b626_11eb_980c_1831bf4eb6f5row2_col2{\n",
       "            background-color:  #08306b;\n",
       "            color:  #f1f1f1;\n",
       "        }</style><table id=\"T_859ae451_b626_11eb_980c_1831bf4eb6f5\" ><thead>    <tr>        <th class=\"index_name level0\" >Survived</th>        <th class=\"col_heading level0 col0\" >0</th>        <th class=\"col_heading level0 col1\" >1</th>        <th class=\"col_heading level0 col2\" >All</th>    </tr>    <tr>        <th class=\"index_name level0\" >Sex</th>        <th class=\"blank\" ></th>        <th class=\"blank\" ></th>        <th class=\"blank\" ></th>    </tr></thead><tbody>\n",
       "                <tr>\n",
       "                        <th id=\"T_859ae451_b626_11eb_980c_1831bf4eb6f5level0_row0\" class=\"row_heading level0 row0\" >female</th>\n",
       "                        <td id=\"T_859ae451_b626_11eb_980c_1831bf4eb6f5row0_col0\" class=\"data row0 col0\" >81</td>\n",
       "                        <td id=\"T_859ae451_b626_11eb_980c_1831bf4eb6f5row0_col1\" class=\"data row0 col1\" >233</td>\n",
       "                        <td id=\"T_859ae451_b626_11eb_980c_1831bf4eb6f5row0_col2\" class=\"data row0 col2\" >314</td>\n",
       "            </tr>\n",
       "            <tr>\n",
       "                        <th id=\"T_859ae451_b626_11eb_980c_1831bf4eb6f5level0_row1\" class=\"row_heading level0 row1\" >male</th>\n",
       "                        <td id=\"T_859ae451_b626_11eb_980c_1831bf4eb6f5row1_col0\" class=\"data row1 col0\" >468</td>\n",
       "                        <td id=\"T_859ae451_b626_11eb_980c_1831bf4eb6f5row1_col1\" class=\"data row1 col1\" >109</td>\n",
       "                        <td id=\"T_859ae451_b626_11eb_980c_1831bf4eb6f5row1_col2\" class=\"data row1 col2\" >577</td>\n",
       "            </tr>\n",
       "            <tr>\n",
       "                        <th id=\"T_859ae451_b626_11eb_980c_1831bf4eb6f5level0_row2\" class=\"row_heading level0 row2\" >All</th>\n",
       "                        <td id=\"T_859ae451_b626_11eb_980c_1831bf4eb6f5row2_col0\" class=\"data row2 col0\" >549</td>\n",
       "                        <td id=\"T_859ae451_b626_11eb_980c_1831bf4eb6f5row2_col1\" class=\"data row2 col1\" >342</td>\n",
       "                        <td id=\"T_859ae451_b626_11eb_980c_1831bf4eb6f5row2_col2\" class=\"data row2 col2\" >891</td>\n",
       "            </tr>\n",
       "    </tbody></table>"
      ],
      "text/plain": [
       "<pandas.io.formats.style.Styler at 0x29c37680eb0>"
      ]
     },
     "execution_count": 87,
     "metadata": {},
     "output_type": "execute_result"
    }
   ],
   "source": [
    "pd.crosstab(train.Sex,train.Survived,margins=True).style.background_gradient(cmap='Blues')"
   ]
  },
  {
   "cell_type": "code",
   "execution_count": 88,
   "metadata": {},
   "outputs": [
    {
     "data": {
      "image/png": "[encoded data removed]",
      "text/plain": [
       "<Figure size 432x288 with 1 Axes>"
      ]
     },
     "metadata": {
      "needs_background": "light"
     },
     "output_type": "display_data"
    }
   ],
   "source": [
    "#데이터에는 male과 female로 분류\n",
    "#학습하는 데 유용한 특성이라고 판단!\n",
    "sns.countplot('Sex',hue='Survived',data=train)\n",
    "plt.title(\"남/녀 생존 수\")\n",
    "plt.show()"
   ]
  },
  {
   "cell_type": "code",
   "execution_count": 89,
   "metadata": {},
   "outputs": [
    {
     "data": {
      "text/plain": [
       "Pclass  Survived\n",
       "1       0            80\n",
       "        1           136\n",
       "2       0            97\n",
       "        1            87\n",
       "3       0           372\n",
       "        1           119\n",
       "Name: Survived, dtype: int64"
      ]
     },
     "execution_count": 89,
     "metadata": {},
     "output_type": "execute_result"
    }
   ],
   "source": [
    "#PClass\n",
    "#pclass 에 따른 생존 수 나타내기\n",
    "train.groupby(['Pclass','Survived'])['Survived'].count()"
   ]
  },
  {
   "cell_type": "code",
   "execution_count": 90,
   "metadata": {},
   "outputs": [
    {
     "data": {
      "text/html": [
       "<style  type=\"text/css\" >\n",
       "#T_86e48394_b626_11eb_be50_1831bf4eb6f5row0_col0,#T_86e48394_b626_11eb_be50_1831bf4eb6f5row1_col1,#T_86e48394_b626_11eb_be50_1831bf4eb6f5row1_col2{\n",
       "            background-color:  #f7fbff;\n",
       "            color:  #000000;\n",
       "        }#T_86e48394_b626_11eb_be50_1831bf4eb6f5row0_col1{\n",
       "            background-color:  #d1e2f3;\n",
       "            color:  #000000;\n",
       "        }#T_86e48394_b626_11eb_be50_1831bf4eb6f5row0_col2{\n",
       "            background-color:  #eef5fc;\n",
       "            color:  #000000;\n",
       "        }#T_86e48394_b626_11eb_be50_1831bf4eb6f5row1_col0{\n",
       "            background-color:  #f0f6fd;\n",
       "            color:  #000000;\n",
       "        }#T_86e48394_b626_11eb_be50_1831bf4eb6f5row2_col0{\n",
       "            background-color:  #4292c6;\n",
       "            color:  #000000;\n",
       "        }#T_86e48394_b626_11eb_be50_1831bf4eb6f5row2_col1{\n",
       "            background-color:  #deebf7;\n",
       "            color:  #000000;\n",
       "        }#T_86e48394_b626_11eb_be50_1831bf4eb6f5row2_col2{\n",
       "            background-color:  #85bcdc;\n",
       "            color:  #000000;\n",
       "        }#T_86e48394_b626_11eb_be50_1831bf4eb6f5row3_col0,#T_86e48394_b626_11eb_be50_1831bf4eb6f5row3_col1,#T_86e48394_b626_11eb_be50_1831bf4eb6f5row3_col2{\n",
       "            background-color:  #08306b;\n",
       "            color:  #f1f1f1;\n",
       "        }</style><table id=\"T_86e48394_b626_11eb_be50_1831bf4eb6f5\" ><thead>    <tr>        <th class=\"index_name level0\" >Survived</th>        <th class=\"col_heading level0 col0\" >0</th>        <th class=\"col_heading level0 col1\" >1</th>        <th class=\"col_heading level0 col2\" >All</th>    </tr>    <tr>        <th class=\"index_name level0\" >Pclass</th>        <th class=\"blank\" ></th>        <th class=\"blank\" ></th>        <th class=\"blank\" ></th>    </tr></thead><tbody>\n",
       "                <tr>\n",
       "                        <th id=\"T_86e48394_b626_11eb_be50_1831bf4eb6f5level0_row0\" class=\"row_heading level0 row0\" >1</th>\n",
       "                        <td id=\"T_86e48394_b626_11eb_be50_1831bf4eb6f5row0_col0\" class=\"data row0 col0\" >80</td>\n",
       "                        <td id=\"T_86e48394_b626_11eb_be50_1831bf4eb6f5row0_col1\" class=\"data row0 col1\" >136</td>\n",
       "                        <td id=\"T_86e48394_b626_11eb_be50_1831bf4eb6f5row0_col2\" class=\"data row0 col2\" >216</td>\n",
       "            </tr>\n",
       "            <tr>\n",
       "                        <th id=\"T_86e48394_b626_11eb_be50_1831bf4eb6f5level0_row1\" class=\"row_heading level0 row1\" >2</th>\n",
       "                        <td id=\"T_86e48394_b626_11eb_be50_1831bf4eb6f5row1_col0\" class=\"data row1 col0\" >97</td>\n",
       "                        <td id=\"T_86e48394_b626_11eb_be50_1831bf4eb6f5row1_col1\" class=\"data row1 col1\" >87</td>\n",
       "                        <td id=\"T_86e48394_b626_11eb_be50_1831bf4eb6f5row1_col2\" class=\"data row1 col2\" >184</td>\n",
       "            </tr>\n",
       "            <tr>\n",
       "                        <th id=\"T_86e48394_b626_11eb_be50_1831bf4eb6f5level0_row2\" class=\"row_heading level0 row2\" >3</th>\n",
       "                        <td id=\"T_86e48394_b626_11eb_be50_1831bf4eb6f5row2_col0\" class=\"data row2 col0\" >372</td>\n",
       "                        <td id=\"T_86e48394_b626_11eb_be50_1831bf4eb6f5row2_col1\" class=\"data row2 col1\" >119</td>\n",
       "                        <td id=\"T_86e48394_b626_11eb_be50_1831bf4eb6f5row2_col2\" class=\"data row2 col2\" >491</td>\n",
       "            </tr>\n",
       "            <tr>\n",
       "                        <th id=\"T_86e48394_b626_11eb_be50_1831bf4eb6f5level0_row3\" class=\"row_heading level0 row3\" >All</th>\n",
       "                        <td id=\"T_86e48394_b626_11eb_be50_1831bf4eb6f5row3_col0\" class=\"data row3 col0\" >549</td>\n",
       "                        <td id=\"T_86e48394_b626_11eb_be50_1831bf4eb6f5row3_col1\" class=\"data row3 col1\" >342</td>\n",
       "                        <td id=\"T_86e48394_b626_11eb_be50_1831bf4eb6f5row3_col2\" class=\"data row3 col2\" >891</td>\n",
       "            </tr>\n",
       "    </tbody></table>"
      ],
      "text/plain": [
       "<pandas.io.formats.style.Styler at 0x29c387139d0>"
      ]
     },
     "execution_count": 90,
     "metadata": {},
     "output_type": "execute_result"
    }
   ],
   "source": [
    "#보기 좋게 표로 나타내기\n",
    "pd.crosstab(train.Pclass,train.Survived,margins=True).style.background_gradient(cmap='Blues')"
   ]
  },
  {
   "cell_type": "code",
   "execution_count": 91,
   "metadata": {
    "scrolled": true
   },
   "outputs": [
    {
     "data": {
      "image/png": "[encoded data removed]",
      "text/plain": [
       "<Figure size 432x288 with 1 Axes>"
      ]
     },
     "metadata": {
      "needs_background": "light"
     },
     "output_type": "display_data"
    }
   ],
   "source": [
    "#Pclass에 따른 생존률도 다른 양상을 보인다.\n",
    "#타겟값을 예측하는데 중요한 특성이라고 판단.\n",
    "sns.countplot('Pclass',hue='Survived',data=train)\n",
    "plt.title('Pclass에 따른 생존률')\n",
    "plt.show()"
   ]
  },
  {
   "cell_type": "code",
   "execution_count": 92,
   "metadata": {},
   "outputs": [
    {
     "data": {
      "text/html": [
       "<style  type=\"text/css\" >\n",
       "#T_880b693c_b626_11eb_8873_1831bf4eb6f5row0_col0,#T_880b693c_b626_11eb_8873_1831bf4eb6f5row1_col1,#T_880b693c_b626_11eb_8873_1831bf4eb6f5row1_col2,#T_880b693c_b626_11eb_8873_1831bf4eb6f5row1_col3{\n",
       "            background-color:  #f7fbff;\n",
       "            color:  #000000;\n",
       "        }#T_880b693c_b626_11eb_8873_1831bf4eb6f5row0_col1{\n",
       "            background-color:  #e3eef8;\n",
       "            color:  #000000;\n",
       "        }#T_880b693c_b626_11eb_8873_1831bf4eb6f5row0_col2{\n",
       "            background-color:  #3383be;\n",
       "            color:  #000000;\n",
       "        }#T_880b693c_b626_11eb_8873_1831bf4eb6f5row0_col3{\n",
       "            background-color:  #9dcae1;\n",
       "            color:  #000000;\n",
       "        }#T_880b693c_b626_11eb_8873_1831bf4eb6f5row1_col0{\n",
       "            background-color:  #8fc2de;\n",
       "            color:  #000000;\n",
       "        }#T_880b693c_b626_11eb_8873_1831bf4eb6f5row2_col0,#T_880b693c_b626_11eb_8873_1831bf4eb6f5row2_col1,#T_880b693c_b626_11eb_8873_1831bf4eb6f5row2_col2,#T_880b693c_b626_11eb_8873_1831bf4eb6f5row2_col3{\n",
       "            background-color:  #08306b;\n",
       "            color:  #f1f1f1;\n",
       "        }</style><table id=\"T_880b693c_b626_11eb_8873_1831bf4eb6f5\" ><thead>    <tr>        <th class=\"index_name level0\" >Pclass</th>        <th class=\"col_heading level0 col0\" >1</th>        <th class=\"col_heading level0 col1\" >2</th>        <th class=\"col_heading level0 col2\" >3</th>        <th class=\"col_heading level0 col3\" >All</th>    </tr>    <tr>        <th class=\"index_name level0\" >Survived</th>        <th class=\"blank\" ></th>        <th class=\"blank\" ></th>        <th class=\"blank\" ></th>        <th class=\"blank\" ></th>    </tr></thead><tbody>\n",
       "                <tr>\n",
       "                        <th id=\"T_880b693c_b626_11eb_8873_1831bf4eb6f5level0_row0\" class=\"row_heading level0 row0\" >0</th>\n",
       "                        <td id=\"T_880b693c_b626_11eb_8873_1831bf4eb6f5row0_col0\" class=\"data row0 col0\" >80</td>\n",
       "                        <td id=\"T_880b693c_b626_11eb_8873_1831bf4eb6f5row0_col1\" class=\"data row0 col1\" >97</td>\n",
       "                        <td id=\"T_880b693c_b626_11eb_8873_1831bf4eb6f5row0_col2\" class=\"data row0 col2\" >372</td>\n",
       "                        <td id=\"T_880b693c_b626_11eb_8873_1831bf4eb6f5row0_col3\" class=\"data row0 col3\" >549</td>\n",
       "            </tr>\n",
       "            <tr>\n",
       "                        <th id=\"T_880b693c_b626_11eb_8873_1831bf4eb6f5level0_row1\" class=\"row_heading level0 row1\" >1</th>\n",
       "                        <td id=\"T_880b693c_b626_11eb_8873_1831bf4eb6f5row1_col0\" class=\"data row1 col0\" >136</td>\n",
       "                        <td id=\"T_880b693c_b626_11eb_8873_1831bf4eb6f5row1_col1\" class=\"data row1 col1\" >87</td>\n",
       "                        <td id=\"T_880b693c_b626_11eb_8873_1831bf4eb6f5row1_col2\" class=\"data row1 col2\" >119</td>\n",
       "                        <td id=\"T_880b693c_b626_11eb_8873_1831bf4eb6f5row1_col3\" class=\"data row1 col3\" >342</td>\n",
       "            </tr>\n",
       "            <tr>\n",
       "                        <th id=\"T_880b693c_b626_11eb_8873_1831bf4eb6f5level0_row2\" class=\"row_heading level0 row2\" >All</th>\n",
       "                        <td id=\"T_880b693c_b626_11eb_8873_1831bf4eb6f5row2_col0\" class=\"data row2 col0\" >216</td>\n",
       "                        <td id=\"T_880b693c_b626_11eb_8873_1831bf4eb6f5row2_col1\" class=\"data row2 col1\" >184</td>\n",
       "                        <td id=\"T_880b693c_b626_11eb_8873_1831bf4eb6f5row2_col2\" class=\"data row2 col2\" >491</td>\n",
       "                        <td id=\"T_880b693c_b626_11eb_8873_1831bf4eb6f5row2_col3\" class=\"data row2 col3\" >891</td>\n",
       "            </tr>\n",
       "    </tbody></table>"
      ],
      "text/plain": [
       "<pandas.io.formats.style.Styler at 0x29c38804a90>"
      ]
     },
     "execution_count": 92,
     "metadata": {},
     "output_type": "execute_result"
    }
   ],
   "source": [
    "#pclass 에 따른 생존률 수치로 확인해보기\n",
    "pd.crosstab(train.Survived,train.Pclass,margins=True).style.background_gradient(cmap='Blues')"
   ]
  },
  {
   "cell_type": "code",
   "execution_count": 93,
   "metadata": {},
   "outputs": [
    {
     "data": {
      "text/html": [
       "<style  type=\"text/css\" >\n",
       "#T_88e71d1e_b626_11eb_bd97_1831bf4eb6f5row0_col0,#T_88e71d1e_b626_11eb_bd97_1831bf4eb6f5row0_col1,#T_88e71d1e_b626_11eb_bd97_1831bf4eb6f5row0_col3,#T_88e71d1e_b626_11eb_bd97_1831bf4eb6f5row3_col2{\n",
       "            background-color:  #f7fbff;\n",
       "            color:  #000000;\n",
       "        }#T_88e71d1e_b626_11eb_bd97_1831bf4eb6f5row0_col2,#T_88e71d1e_b626_11eb_bd97_1831bf4eb6f5row1_col2{\n",
       "            background-color:  #ecf4fb;\n",
       "            color:  #000000;\n",
       "        }#T_88e71d1e_b626_11eb_bd97_1831bf4eb6f5row1_col0{\n",
       "            background-color:  #8fc2de;\n",
       "            color:  #000000;\n",
       "        }#T_88e71d1e_b626_11eb_bd97_1831bf4eb6f5row1_col1{\n",
       "            background-color:  #a3cce3;\n",
       "            color:  #000000;\n",
       "        }#T_88e71d1e_b626_11eb_bd97_1831bf4eb6f5row1_col3{\n",
       "            background-color:  #d2e3f3;\n",
       "            color:  #000000;\n",
       "        }#T_88e71d1e_b626_11eb_bd97_1831bf4eb6f5row2_col0{\n",
       "            background-color:  #a8cee4;\n",
       "            color:  #000000;\n",
       "        }#T_88e71d1e_b626_11eb_bd97_1831bf4eb6f5row2_col1,#T_88e71d1e_b626_11eb_bd97_1831bf4eb6f5row2_col3{\n",
       "            background-color:  #74b3d8;\n",
       "            color:  #000000;\n",
       "        }#T_88e71d1e_b626_11eb_bd97_1831bf4eb6f5row2_col2{\n",
       "            background-color:  #549fcd;\n",
       "            color:  #000000;\n",
       "        }#T_88e71d1e_b626_11eb_bd97_1831bf4eb6f5row3_col0{\n",
       "            background-color:  #d0e2f2;\n",
       "            color:  #000000;\n",
       "        }#T_88e71d1e_b626_11eb_bd97_1831bf4eb6f5row3_col1{\n",
       "            background-color:  #ebf3fb;\n",
       "            color:  #000000;\n",
       "        }#T_88e71d1e_b626_11eb_bd97_1831bf4eb6f5row3_col3{\n",
       "            background-color:  #f1f7fd;\n",
       "            color:  #000000;\n",
       "        }#T_88e71d1e_b626_11eb_bd97_1831bf4eb6f5row4_col0,#T_88e71d1e_b626_11eb_bd97_1831bf4eb6f5row4_col1,#T_88e71d1e_b626_11eb_bd97_1831bf4eb6f5row4_col2,#T_88e71d1e_b626_11eb_bd97_1831bf4eb6f5row4_col3{\n",
       "            background-color:  #08306b;\n",
       "            color:  #f1f1f1;\n",
       "        }</style><table id=\"T_88e71d1e_b626_11eb_bd97_1831bf4eb6f5\" ><thead>    <tr>        <th class=\"blank\" ></th>        <th class=\"index_name level0\" >Pclass</th>        <th class=\"col_heading level0 col0\" >1</th>        <th class=\"col_heading level0 col1\" >2</th>        <th class=\"col_heading level0 col2\" >3</th>        <th class=\"col_heading level0 col3\" >All</th>    </tr>    <tr>        <th class=\"index_name level0\" >Sex</th>        <th class=\"index_name level1\" >Survived</th>        <th class=\"blank\" ></th>        <th class=\"blank\" ></th>        <th class=\"blank\" ></th>        <th class=\"blank\" ></th>    </tr></thead><tbody>\n",
       "                <tr>\n",
       "                        <th id=\"T_88e71d1e_b626_11eb_bd97_1831bf4eb6f5level0_row0\" class=\"row_heading level0 row0\" rowspan=2>female</th>\n",
       "                        <th id=\"T_88e71d1e_b626_11eb_bd97_1831bf4eb6f5level1_row0\" class=\"row_heading level1 row0\" >0</th>\n",
       "                        <td id=\"T_88e71d1e_b626_11eb_bd97_1831bf4eb6f5row0_col0\" class=\"data row0 col0\" >3</td>\n",
       "                        <td id=\"T_88e71d1e_b626_11eb_bd97_1831bf4eb6f5row0_col1\" class=\"data row0 col1\" >6</td>\n",
       "                        <td id=\"T_88e71d1e_b626_11eb_bd97_1831bf4eb6f5row0_col2\" class=\"data row0 col2\" >72</td>\n",
       "                        <td id=\"T_88e71d1e_b626_11eb_bd97_1831bf4eb6f5row0_col3\" class=\"data row0 col3\" >81</td>\n",
       "            </tr>\n",
       "            <tr>\n",
       "                                <th id=\"T_88e71d1e_b626_11eb_bd97_1831bf4eb6f5level1_row1\" class=\"row_heading level1 row1\" >1</th>\n",
       "                        <td id=\"T_88e71d1e_b626_11eb_bd97_1831bf4eb6f5row1_col0\" class=\"data row1 col0\" >91</td>\n",
       "                        <td id=\"T_88e71d1e_b626_11eb_bd97_1831bf4eb6f5row1_col1\" class=\"data row1 col1\" >70</td>\n",
       "                        <td id=\"T_88e71d1e_b626_11eb_bd97_1831bf4eb6f5row1_col2\" class=\"data row1 col2\" >72</td>\n",
       "                        <td id=\"T_88e71d1e_b626_11eb_bd97_1831bf4eb6f5row1_col3\" class=\"data row1 col3\" >233</td>\n",
       "            </tr>\n",
       "            <tr>\n",
       "                        <th id=\"T_88e71d1e_b626_11eb_bd97_1831bf4eb6f5level0_row2\" class=\"row_heading level0 row2\" rowspan=2>male</th>\n",
       "                        <th id=\"T_88e71d1e_b626_11eb_bd97_1831bf4eb6f5level1_row2\" class=\"row_heading level1 row2\" >0</th>\n",
       "                        <td id=\"T_88e71d1e_b626_11eb_bd97_1831bf4eb6f5row2_col0\" class=\"data row2 col0\" >77</td>\n",
       "                        <td id=\"T_88e71d1e_b626_11eb_bd97_1831bf4eb6f5row2_col1\" class=\"data row2 col1\" >91</td>\n",
       "                        <td id=\"T_88e71d1e_b626_11eb_bd97_1831bf4eb6f5row2_col2\" class=\"data row2 col2\" >300</td>\n",
       "                        <td id=\"T_88e71d1e_b626_11eb_bd97_1831bf4eb6f5row2_col3\" class=\"data row2 col3\" >468</td>\n",
       "            </tr>\n",
       "            <tr>\n",
       "                                <th id=\"T_88e71d1e_b626_11eb_bd97_1831bf4eb6f5level1_row3\" class=\"row_heading level1 row3\" >1</th>\n",
       "                        <td id=\"T_88e71d1e_b626_11eb_bd97_1831bf4eb6f5row3_col0\" class=\"data row3 col0\" >45</td>\n",
       "                        <td id=\"T_88e71d1e_b626_11eb_bd97_1831bf4eb6f5row3_col1\" class=\"data row3 col1\" >17</td>\n",
       "                        <td id=\"T_88e71d1e_b626_11eb_bd97_1831bf4eb6f5row3_col2\" class=\"data row3 col2\" >47</td>\n",
       "                        <td id=\"T_88e71d1e_b626_11eb_bd97_1831bf4eb6f5row3_col3\" class=\"data row3 col3\" >109</td>\n",
       "            </tr>\n",
       "            <tr>\n",
       "                        <th id=\"T_88e71d1e_b626_11eb_bd97_1831bf4eb6f5level0_row4\" class=\"row_heading level0 row4\" >All</th>\n",
       "                        <th id=\"T_88e71d1e_b626_11eb_bd97_1831bf4eb6f5level1_row4\" class=\"row_heading level1 row4\" ></th>\n",
       "                        <td id=\"T_88e71d1e_b626_11eb_bd97_1831bf4eb6f5row4_col0\" class=\"data row4 col0\" >216</td>\n",
       "                        <td id=\"T_88e71d1e_b626_11eb_bd97_1831bf4eb6f5row4_col1\" class=\"data row4 col1\" >184</td>\n",
       "                        <td id=\"T_88e71d1e_b626_11eb_bd97_1831bf4eb6f5row4_col2\" class=\"data row4 col2\" >491</td>\n",
       "                        <td id=\"T_88e71d1e_b626_11eb_bd97_1831bf4eb6f5row4_col3\" class=\"data row4 col3\" >891</td>\n",
       "            </tr>\n",
       "    </tbody></table>"
      ],
      "text/plain": [
       "<pandas.io.formats.style.Styler at 0x29c376b18e0>"
      ]
     },
     "execution_count": 93,
     "metadata": {},
     "output_type": "execute_result"
    }
   ],
   "source": [
    "#pclass와 성에 따른 생존률 살펴보기\n",
    "pd.crosstab([train.Sex,train.Survived],train.Pclass,margins=True).style.background_gradient(cmap='Blues')"
   ]
  },
  {
   "cell_type": "code",
   "execution_count": 94,
   "metadata": {
    "scrolled": true
   },
   "outputs": [
    {
     "data": {
      "text/plain": [
       "Embarked  Survived\n",
       "C         0            75\n",
       "          1            93\n",
       "Q         0            47\n",
       "          1            30\n",
       "S         0           427\n",
       "          1           217\n",
       "Name: Survived, dtype: int64"
      ]
     },
     "execution_count": 94,
     "metadata": {},
     "output_type": "execute_result"
    }
   ],
   "source": [
    "#Embarked에 따른 생존자 수 확인하기\n",
    "train.groupby(['Embarked','Survived'])['Survived'].count()"
   ]
  },
  {
   "cell_type": "code",
   "execution_count": 95,
   "metadata": {},
   "outputs": [
    {
     "data": {
      "text/html": [
       "<style  type=\"text/css\" >\n",
       "#T_8a241da9_b626_11eb_be4c_1831bf4eb6f5row0_col0,#T_8a241da9_b626_11eb_be4c_1831bf4eb6f5row1_col1,#T_8a241da9_b626_11eb_be4c_1831bf4eb6f5row1_col2,#T_8a241da9_b626_11eb_be4c_1831bf4eb6f5row1_col3{\n",
       "            background-color:  #ffff66;\n",
       "            color:  #000000;\n",
       "        }#T_8a241da9_b626_11eb_be4c_1831bf4eb6f5row0_col1{\n",
       "            background-color:  #a3d166;\n",
       "            color:  #000000;\n",
       "        }#T_8a241da9_b626_11eb_be4c_1831bf4eb6f5row0_col2{\n",
       "            background-color:  #82c066;\n",
       "            color:  #000000;\n",
       "        }#T_8a241da9_b626_11eb_be4c_1831bf4eb6f5row0_col3{\n",
       "            background-color:  #9ece66;\n",
       "            color:  #000000;\n",
       "        }#T_8a241da9_b626_11eb_be4c_1831bf4eb6f5row1_col0{\n",
       "            background-color:  #cee666;\n",
       "            color:  #000000;\n",
       "        }#T_8a241da9_b626_11eb_be4c_1831bf4eb6f5row2_col0,#T_8a241da9_b626_11eb_be4c_1831bf4eb6f5row2_col1,#T_8a241da9_b626_11eb_be4c_1831bf4eb6f5row2_col2,#T_8a241da9_b626_11eb_be4c_1831bf4eb6f5row2_col3{\n",
       "            background-color:  #008066;\n",
       "            color:  #f1f1f1;\n",
       "        }</style><table id=\"T_8a241da9_b626_11eb_be4c_1831bf4eb6f5\" ><thead>    <tr>        <th class=\"index_name level0\" >Embarked</th>        <th class=\"col_heading level0 col0\" >C</th>        <th class=\"col_heading level0 col1\" >Q</th>        <th class=\"col_heading level0 col2\" >S</th>        <th class=\"col_heading level0 col3\" >All</th>    </tr>    <tr>        <th class=\"index_name level0\" >Survived</th>        <th class=\"blank\" ></th>        <th class=\"blank\" ></th>        <th class=\"blank\" ></th>        <th class=\"blank\" ></th>    </tr></thead><tbody>\n",
       "                <tr>\n",
       "                        <th id=\"T_8a241da9_b626_11eb_be4c_1831bf4eb6f5level0_row0\" class=\"row_heading level0 row0\" >0</th>\n",
       "                        <td id=\"T_8a241da9_b626_11eb_be4c_1831bf4eb6f5row0_col0\" class=\"data row0 col0\" >75</td>\n",
       "                        <td id=\"T_8a241da9_b626_11eb_be4c_1831bf4eb6f5row0_col1\" class=\"data row0 col1\" >47</td>\n",
       "                        <td id=\"T_8a241da9_b626_11eb_be4c_1831bf4eb6f5row0_col2\" class=\"data row0 col2\" >427</td>\n",
       "                        <td id=\"T_8a241da9_b626_11eb_be4c_1831bf4eb6f5row0_col3\" class=\"data row0 col3\" >549</td>\n",
       "            </tr>\n",
       "            <tr>\n",
       "                        <th id=\"T_8a241da9_b626_11eb_be4c_1831bf4eb6f5level0_row1\" class=\"row_heading level0 row1\" >1</th>\n",
       "                        <td id=\"T_8a241da9_b626_11eb_be4c_1831bf4eb6f5row1_col0\" class=\"data row1 col0\" >93</td>\n",
       "                        <td id=\"T_8a241da9_b626_11eb_be4c_1831bf4eb6f5row1_col1\" class=\"data row1 col1\" >30</td>\n",
       "                        <td id=\"T_8a241da9_b626_11eb_be4c_1831bf4eb6f5row1_col2\" class=\"data row1 col2\" >217</td>\n",
       "                        <td id=\"T_8a241da9_b626_11eb_be4c_1831bf4eb6f5row1_col3\" class=\"data row1 col3\" >340</td>\n",
       "            </tr>\n",
       "            <tr>\n",
       "                        <th id=\"T_8a241da9_b626_11eb_be4c_1831bf4eb6f5level0_row2\" class=\"row_heading level0 row2\" >All</th>\n",
       "                        <td id=\"T_8a241da9_b626_11eb_be4c_1831bf4eb6f5row2_col0\" class=\"data row2 col0\" >168</td>\n",
       "                        <td id=\"T_8a241da9_b626_11eb_be4c_1831bf4eb6f5row2_col1\" class=\"data row2 col1\" >77</td>\n",
       "                        <td id=\"T_8a241da9_b626_11eb_be4c_1831bf4eb6f5row2_col2\" class=\"data row2 col2\" >644</td>\n",
       "                        <td id=\"T_8a241da9_b626_11eb_be4c_1831bf4eb6f5row2_col3\" class=\"data row2 col3\" >889</td>\n",
       "            </tr>\n",
       "    </tbody></table>"
      ],
      "text/plain": [
       "<pandas.io.formats.style.Styler at 0x29c38713940>"
      ]
     },
     "execution_count": 95,
     "metadata": {},
     "output_type": "execute_result"
    }
   ],
   "source": [
    "#데이터 결측치 2개존재.\n",
    "#표로 확인하기\n",
    "pd.crosstab(train.Survived,train.Embarked,margins=True).style.background_gradient(cmap='summer_r')"
   ]
  },
  {
   "cell_type": "code",
   "execution_count": 96,
   "metadata": {},
   "outputs": [
    {
     "data": {
      "text/html": [
       "<style  type=\"text/css\" >\n",
       "#T_8a8c1348_b626_11eb_a2be_1831bf4eb6f5row0_col0,#T_8a8c1348_b626_11eb_a2be_1831bf4eb6f5row1_col2{\n",
       "            background-color:  #fcfe66;\n",
       "            color:  #000000;\n",
       "        }#T_8a8c1348_b626_11eb_a2be_1831bf4eb6f5row0_col1{\n",
       "            background-color:  #d2e866;\n",
       "            color:  #000000;\n",
       "        }#T_8a8c1348_b626_11eb_a2be_1831bf4eb6f5row0_col2{\n",
       "            background-color:  #f2f866;\n",
       "            color:  #000000;\n",
       "        }#T_8a8c1348_b626_11eb_a2be_1831bf4eb6f5row0_col3{\n",
       "            background-color:  #d8ec66;\n",
       "            color:  #000000;\n",
       "        }#T_8a8c1348_b626_11eb_a2be_1831bf4eb6f5row0_col4,#T_8a8c1348_b626_11eb_a2be_1831bf4eb6f5row2_col3{\n",
       "            background-color:  #e8f466;\n",
       "            color:  #000000;\n",
       "        }#T_8a8c1348_b626_11eb_a2be_1831bf4eb6f5row1_col0,#T_8a8c1348_b626_11eb_a2be_1831bf4eb6f5row3_col0,#T_8a8c1348_b626_11eb_a2be_1831bf4eb6f5row3_col1,#T_8a8c1348_b626_11eb_a2be_1831bf4eb6f5row3_col2,#T_8a8c1348_b626_11eb_a2be_1831bf4eb6f5row3_col3,#T_8a8c1348_b626_11eb_a2be_1831bf4eb6f5row3_col4,#T_8a8c1348_b626_11eb_a2be_1831bf4eb6f5row4_col0,#T_8a8c1348_b626_11eb_a2be_1831bf4eb6f5row4_col2,#T_8a8c1348_b626_11eb_a2be_1831bf4eb6f5row4_col3,#T_8a8c1348_b626_11eb_a2be_1831bf4eb6f5row4_col4{\n",
       "            background-color:  #ffff66;\n",
       "            color:  #000000;\n",
       "        }#T_8a8c1348_b626_11eb_a2be_1831bf4eb6f5row1_col1,#T_8a8c1348_b626_11eb_a2be_1831bf4eb6f5row6_col0{\n",
       "            background-color:  #f9fc66;\n",
       "            color:  #000000;\n",
       "        }#T_8a8c1348_b626_11eb_a2be_1831bf4eb6f5row1_col3,#T_8a8c1348_b626_11eb_a2be_1831bf4eb6f5row1_col4{\n",
       "            background-color:  #fbfd66;\n",
       "            color:  #000000;\n",
       "        }#T_8a8c1348_b626_11eb_a2be_1831bf4eb6f5row2_col0,#T_8a8c1348_b626_11eb_a2be_1831bf4eb6f5row5_col1{\n",
       "            background-color:  #e6f266;\n",
       "            color:  #000000;\n",
       "        }#T_8a8c1348_b626_11eb_a2be_1831bf4eb6f5row2_col1{\n",
       "            background-color:  #f0f866;\n",
       "            color:  #000000;\n",
       "        }#T_8a8c1348_b626_11eb_a2be_1831bf4eb6f5row2_col2{\n",
       "            background-color:  #eef666;\n",
       "            color:  #000000;\n",
       "        }#T_8a8c1348_b626_11eb_a2be_1831bf4eb6f5row2_col4,#T_8a8c1348_b626_11eb_a2be_1831bf4eb6f5row7_col0{\n",
       "            background-color:  #edf666;\n",
       "            color:  #000000;\n",
       "        }#T_8a8c1348_b626_11eb_a2be_1831bf4eb6f5row4_col1{\n",
       "            background-color:  #fefe66;\n",
       "            color:  #000000;\n",
       "        }#T_8a8c1348_b626_11eb_a2be_1831bf4eb6f5row5_col0{\n",
       "            background-color:  #e3f166;\n",
       "            color:  #000000;\n",
       "        }#T_8a8c1348_b626_11eb_a2be_1831bf4eb6f5row5_col2{\n",
       "            background-color:  #ecf666;\n",
       "            color:  #000000;\n",
       "        }#T_8a8c1348_b626_11eb_a2be_1831bf4eb6f5row5_col3{\n",
       "            background-color:  #f8fc66;\n",
       "            color:  #000000;\n",
       "        }#T_8a8c1348_b626_11eb_a2be_1831bf4eb6f5row5_col4{\n",
       "            background-color:  #ebf566;\n",
       "            color:  #000000;\n",
       "        }#T_8a8c1348_b626_11eb_a2be_1831bf4eb6f5row6_col1{\n",
       "            background-color:  #cde666;\n",
       "            color:  #000000;\n",
       "        }#T_8a8c1348_b626_11eb_a2be_1831bf4eb6f5row6_col2{\n",
       "            background-color:  #e4f266;\n",
       "            color:  #000000;\n",
       "        }#T_8a8c1348_b626_11eb_a2be_1831bf4eb6f5row6_col3{\n",
       "            background-color:  #bede66;\n",
       "            color:  #000000;\n",
       "        }#T_8a8c1348_b626_11eb_a2be_1831bf4eb6f5row6_col4{\n",
       "            background-color:  #dbed66;\n",
       "            color:  #000000;\n",
       "        }#T_8a8c1348_b626_11eb_a2be_1831bf4eb6f5row7_col1{\n",
       "            background-color:  #bdde66;\n",
       "            color:  #000000;\n",
       "        }#T_8a8c1348_b626_11eb_a2be_1831bf4eb6f5row7_col2{\n",
       "            background-color:  #d3e966;\n",
       "            color:  #000000;\n",
       "        }#T_8a8c1348_b626_11eb_a2be_1831bf4eb6f5row7_col3,#T_8a8c1348_b626_11eb_a2be_1831bf4eb6f5row8_col1{\n",
       "            background-color:  #dcee66;\n",
       "            color:  #000000;\n",
       "        }#T_8a8c1348_b626_11eb_a2be_1831bf4eb6f5row7_col4{\n",
       "            background-color:  #d1e866;\n",
       "            color:  #000000;\n",
       "        }#T_8a8c1348_b626_11eb_a2be_1831bf4eb6f5row8_col0{\n",
       "            background-color:  #52a866;\n",
       "            color:  #000000;\n",
       "        }#T_8a8c1348_b626_11eb_a2be_1831bf4eb6f5row8_col2{\n",
       "            background-color:  #81c066;\n",
       "            color:  #000000;\n",
       "        }#T_8a8c1348_b626_11eb_a2be_1831bf4eb6f5row8_col3{\n",
       "            background-color:  #b0d866;\n",
       "            color:  #000000;\n",
       "        }#T_8a8c1348_b626_11eb_a2be_1831bf4eb6f5row8_col4{\n",
       "            background-color:  #9acc66;\n",
       "            color:  #000000;\n",
       "        }#T_8a8c1348_b626_11eb_a2be_1831bf4eb6f5row9_col0,#T_8a8c1348_b626_11eb_a2be_1831bf4eb6f5row9_col1,#T_8a8c1348_b626_11eb_a2be_1831bf4eb6f5row9_col2,#T_8a8c1348_b626_11eb_a2be_1831bf4eb6f5row9_col3,#T_8a8c1348_b626_11eb_a2be_1831bf4eb6f5row9_col4{\n",
       "            background-color:  #008066;\n",
       "            color:  #f1f1f1;\n",
       "        }</style><table id=\"T_8a8c1348_b626_11eb_a2be_1831bf4eb6f5\" ><thead>    <tr>        <th class=\"blank\" ></th>        <th class=\"index_name level0\" >Sex</th>        <th class=\"col_heading level0 col0\" colspan=2>female</th>        <th class=\"col_heading level0 col2\" colspan=2>male</th>        <th class=\"col_heading level0 col4\" >All</th>    </tr>    <tr>        <th class=\"blank\" ></th>        <th class=\"index_name level1\" >Survived</th>        <th class=\"col_heading level1 col0\" >0</th>        <th class=\"col_heading level1 col1\" >1</th>        <th class=\"col_heading level1 col2\" >0</th>        <th class=\"col_heading level1 col3\" >1</th>        <th class=\"col_heading level1 col4\" ></th>    </tr>    <tr>        <th class=\"index_name level0\" >Embarked</th>        <th class=\"index_name level1\" >Pclass</th>        <th class=\"blank\" ></th>        <th class=\"blank\" ></th>        <th class=\"blank\" ></th>        <th class=\"blank\" ></th>        <th class=\"blank\" ></th>    </tr></thead><tbody>\n",
       "                <tr>\n",
       "                        <th id=\"T_8a8c1348_b626_11eb_a2be_1831bf4eb6f5level0_row0\" class=\"row_heading level0 row0\" rowspan=3>C</th>\n",
       "                        <th id=\"T_8a8c1348_b626_11eb_a2be_1831bf4eb6f5level1_row0\" class=\"row_heading level1 row0\" >1</th>\n",
       "                        <td id=\"T_8a8c1348_b626_11eb_a2be_1831bf4eb6f5row0_col0\" class=\"data row0 col0\" >1</td>\n",
       "                        <td id=\"T_8a8c1348_b626_11eb_a2be_1831bf4eb6f5row0_col1\" class=\"data row0 col1\" >42</td>\n",
       "                        <td id=\"T_8a8c1348_b626_11eb_a2be_1831bf4eb6f5row0_col2\" class=\"data row0 col2\" >25</td>\n",
       "                        <td id=\"T_8a8c1348_b626_11eb_a2be_1831bf4eb6f5row0_col3\" class=\"data row0 col3\" >17</td>\n",
       "                        <td id=\"T_8a8c1348_b626_11eb_a2be_1831bf4eb6f5row0_col4\" class=\"data row0 col4\" >85</td>\n",
       "            </tr>\n",
       "            <tr>\n",
       "                                <th id=\"T_8a8c1348_b626_11eb_a2be_1831bf4eb6f5level1_row1\" class=\"row_heading level1 row1\" >2</th>\n",
       "                        <td id=\"T_8a8c1348_b626_11eb_a2be_1831bf4eb6f5row1_col0\" class=\"data row1 col0\" >0</td>\n",
       "                        <td id=\"T_8a8c1348_b626_11eb_a2be_1831bf4eb6f5row1_col1\" class=\"data row1 col1\" >7</td>\n",
       "                        <td id=\"T_8a8c1348_b626_11eb_a2be_1831bf4eb6f5row1_col2\" class=\"data row1 col2\" >8</td>\n",
       "                        <td id=\"T_8a8c1348_b626_11eb_a2be_1831bf4eb6f5row1_col3\" class=\"data row1 col3\" >2</td>\n",
       "                        <td id=\"T_8a8c1348_b626_11eb_a2be_1831bf4eb6f5row1_col4\" class=\"data row1 col4\" >17</td>\n",
       "            </tr>\n",
       "            <tr>\n",
       "                                <th id=\"T_8a8c1348_b626_11eb_a2be_1831bf4eb6f5level1_row2\" class=\"row_heading level1 row2\" >3</th>\n",
       "                        <td id=\"T_8a8c1348_b626_11eb_a2be_1831bf4eb6f5row2_col0\" class=\"data row2 col0\" >8</td>\n",
       "                        <td id=\"T_8a8c1348_b626_11eb_a2be_1831bf4eb6f5row2_col1\" class=\"data row2 col1\" >15</td>\n",
       "                        <td id=\"T_8a8c1348_b626_11eb_a2be_1831bf4eb6f5row2_col2\" class=\"data row2 col2\" >33</td>\n",
       "                        <td id=\"T_8a8c1348_b626_11eb_a2be_1831bf4eb6f5row2_col3\" class=\"data row2 col3\" >10</td>\n",
       "                        <td id=\"T_8a8c1348_b626_11eb_a2be_1831bf4eb6f5row2_col4\" class=\"data row2 col4\" >66</td>\n",
       "            </tr>\n",
       "            <tr>\n",
       "                        <th id=\"T_8a8c1348_b626_11eb_a2be_1831bf4eb6f5level0_row3\" class=\"row_heading level0 row3\" rowspan=3>Q</th>\n",
       "                        <th id=\"T_8a8c1348_b626_11eb_a2be_1831bf4eb6f5level1_row3\" class=\"row_heading level1 row3\" >1</th>\n",
       "                        <td id=\"T_8a8c1348_b626_11eb_a2be_1831bf4eb6f5row3_col0\" class=\"data row3 col0\" >0</td>\n",
       "                        <td id=\"T_8a8c1348_b626_11eb_a2be_1831bf4eb6f5row3_col1\" class=\"data row3 col1\" >1</td>\n",
       "                        <td id=\"T_8a8c1348_b626_11eb_a2be_1831bf4eb6f5row3_col2\" class=\"data row3 col2\" >1</td>\n",
       "                        <td id=\"T_8a8c1348_b626_11eb_a2be_1831bf4eb6f5row3_col3\" class=\"data row3 col3\" >0</td>\n",
       "                        <td id=\"T_8a8c1348_b626_11eb_a2be_1831bf4eb6f5row3_col4\" class=\"data row3 col4\" >2</td>\n",
       "            </tr>\n",
       "            <tr>\n",
       "                                <th id=\"T_8a8c1348_b626_11eb_a2be_1831bf4eb6f5level1_row4\" class=\"row_heading level1 row4\" >2</th>\n",
       "                        <td id=\"T_8a8c1348_b626_11eb_a2be_1831bf4eb6f5row4_col0\" class=\"data row4 col0\" >0</td>\n",
       "                        <td id=\"T_8a8c1348_b626_11eb_a2be_1831bf4eb6f5row4_col1\" class=\"data row4 col1\" >2</td>\n",
       "                        <td id=\"T_8a8c1348_b626_11eb_a2be_1831bf4eb6f5row4_col2\" class=\"data row4 col2\" >1</td>\n",
       "                        <td id=\"T_8a8c1348_b626_11eb_a2be_1831bf4eb6f5row4_col3\" class=\"data row4 col3\" >0</td>\n",
       "                        <td id=\"T_8a8c1348_b626_11eb_a2be_1831bf4eb6f5row4_col4\" class=\"data row4 col4\" >3</td>\n",
       "            </tr>\n",
       "            <tr>\n",
       "                                <th id=\"T_8a8c1348_b626_11eb_a2be_1831bf4eb6f5level1_row5\" class=\"row_heading level1 row5\" >3</th>\n",
       "                        <td id=\"T_8a8c1348_b626_11eb_a2be_1831bf4eb6f5row5_col0\" class=\"data row5 col0\" >9</td>\n",
       "                        <td id=\"T_8a8c1348_b626_11eb_a2be_1831bf4eb6f5row5_col1\" class=\"data row5 col1\" >24</td>\n",
       "                        <td id=\"T_8a8c1348_b626_11eb_a2be_1831bf4eb6f5row5_col2\" class=\"data row5 col2\" >36</td>\n",
       "                        <td id=\"T_8a8c1348_b626_11eb_a2be_1831bf4eb6f5row5_col3\" class=\"data row5 col3\" >3</td>\n",
       "                        <td id=\"T_8a8c1348_b626_11eb_a2be_1831bf4eb6f5row5_col4\" class=\"data row5 col4\" >72</td>\n",
       "            </tr>\n",
       "            <tr>\n",
       "                        <th id=\"T_8a8c1348_b626_11eb_a2be_1831bf4eb6f5level0_row6\" class=\"row_heading level0 row6\" rowspan=3>S</th>\n",
       "                        <th id=\"T_8a8c1348_b626_11eb_a2be_1831bf4eb6f5level1_row6\" class=\"row_heading level1 row6\" >1</th>\n",
       "                        <td id=\"T_8a8c1348_b626_11eb_a2be_1831bf4eb6f5row6_col0\" class=\"data row6 col0\" >2</td>\n",
       "                        <td id=\"T_8a8c1348_b626_11eb_a2be_1831bf4eb6f5row6_col1\" class=\"data row6 col1\" >46</td>\n",
       "                        <td id=\"T_8a8c1348_b626_11eb_a2be_1831bf4eb6f5row6_col2\" class=\"data row6 col2\" >51</td>\n",
       "                        <td id=\"T_8a8c1348_b626_11eb_a2be_1831bf4eb6f5row6_col3\" class=\"data row6 col3\" >28</td>\n",
       "                        <td id=\"T_8a8c1348_b626_11eb_a2be_1831bf4eb6f5row6_col4\" class=\"data row6 col4\" >127</td>\n",
       "            </tr>\n",
       "            <tr>\n",
       "                                <th id=\"T_8a8c1348_b626_11eb_a2be_1831bf4eb6f5level1_row7\" class=\"row_heading level1 row7\" >2</th>\n",
       "                        <td id=\"T_8a8c1348_b626_11eb_a2be_1831bf4eb6f5row7_col0\" class=\"data row7 col0\" >6</td>\n",
       "                        <td id=\"T_8a8c1348_b626_11eb_a2be_1831bf4eb6f5row7_col1\" class=\"data row7 col1\" >61</td>\n",
       "                        <td id=\"T_8a8c1348_b626_11eb_a2be_1831bf4eb6f5row7_col2\" class=\"data row7 col2\" >82</td>\n",
       "                        <td id=\"T_8a8c1348_b626_11eb_a2be_1831bf4eb6f5row7_col3\" class=\"data row7 col3\" >15</td>\n",
       "                        <td id=\"T_8a8c1348_b626_11eb_a2be_1831bf4eb6f5row7_col4\" class=\"data row7 col4\" >164</td>\n",
       "            </tr>\n",
       "            <tr>\n",
       "                                <th id=\"T_8a8c1348_b626_11eb_a2be_1831bf4eb6f5level1_row8\" class=\"row_heading level1 row8\" >3</th>\n",
       "                        <td id=\"T_8a8c1348_b626_11eb_a2be_1831bf4eb6f5row8_col0\" class=\"data row8 col0\" >55</td>\n",
       "                        <td id=\"T_8a8c1348_b626_11eb_a2be_1831bf4eb6f5row8_col1\" class=\"data row8 col1\" >33</td>\n",
       "                        <td id=\"T_8a8c1348_b626_11eb_a2be_1831bf4eb6f5row8_col2\" class=\"data row8 col2\" >231</td>\n",
       "                        <td id=\"T_8a8c1348_b626_11eb_a2be_1831bf4eb6f5row8_col3\" class=\"data row8 col3\" >34</td>\n",
       "                        <td id=\"T_8a8c1348_b626_11eb_a2be_1831bf4eb6f5row8_col4\" class=\"data row8 col4\" >353</td>\n",
       "            </tr>\n",
       "            <tr>\n",
       "                        <th id=\"T_8a8c1348_b626_11eb_a2be_1831bf4eb6f5level0_row9\" class=\"row_heading level0 row9\" >All</th>\n",
       "                        <th id=\"T_8a8c1348_b626_11eb_a2be_1831bf4eb6f5level1_row9\" class=\"row_heading level1 row9\" ></th>\n",
       "                        <td id=\"T_8a8c1348_b626_11eb_a2be_1831bf4eb6f5row9_col0\" class=\"data row9 col0\" >81</td>\n",
       "                        <td id=\"T_8a8c1348_b626_11eb_a2be_1831bf4eb6f5row9_col1\" class=\"data row9 col1\" >231</td>\n",
       "                        <td id=\"T_8a8c1348_b626_11eb_a2be_1831bf4eb6f5row9_col2\" class=\"data row9 col2\" >468</td>\n",
       "                        <td id=\"T_8a8c1348_b626_11eb_a2be_1831bf4eb6f5row9_col3\" class=\"data row9 col3\" >109</td>\n",
       "                        <td id=\"T_8a8c1348_b626_11eb_a2be_1831bf4eb6f5row9_col4\" class=\"data row9 col4\" >889</td>\n",
       "            </tr>\n",
       "    </tbody></table>"
      ],
      "text/plain": [
       "<pandas.io.formats.style.Styler at 0x29c3880dc10>"
      ]
     },
     "execution_count": 96,
     "metadata": {},
     "output_type": "execute_result"
    }
   ],
   "source": [
    "#데이터 결측치 2개존재.\n",
    "#지금까지 확인한 pclss ,sex,Embarked 에 따른 생존자 수 한번에 살펴보기\n",
    "pd.crosstab([train.Embarked,train.Pclass],[train.Sex,train.Survived],margins=True).style.background_gradient(cmap='summer_r')"
   ]
  },
  {
   "cell_type": "code",
   "execution_count": 97,
   "metadata": {},
   "outputs": [
    {
     "data": {
      "image/png": "[encoded data removed]",
      "text/plain": [
       "<Figure size 1440x1080 with 4 Axes>"
      ]
     },
     "metadata": {
      "needs_background": "light"
     },
     "output_type": "display_data"
    }
   ],
   "source": [
    "f,ax=plt.subplots(2,2,figsize=(20,15))\n",
    "sns.countplot('Embarked',data=train,ax=ax[0,0])\n",
    "ax[0,0].set_title('각 Embarked 에 대한 승객수')\n",
    "sns.countplot('Embarked',hue='Sex',data=train,ax=ax[0,1])\n",
    "ax[0,1].set_title('성별에 따른 Embarked 분류')\n",
    "sns.countplot('Embarked',hue='Survived',data=train,ax=ax[1,0])\n",
    "ax[1,0].set_title('Embarked 에 대한 생존률')\n",
    "sns.countplot('Embarked',hue='Pclass',data=train,ax=ax[1,1])\n",
    "ax[1,1].set_title('Embarked 와 Pclass 의 상관관계')\n",
    "plt.subplots_adjust(wspace=0.2,hspace=0.5)\n",
    "plt.show()"
   ]
  },
  {
   "cell_type": "code",
   "execution_count": 98,
   "metadata": {},
   "outputs": [],
   "source": [
    "#데이터 결측치를 가장 빈도수가 많은 S 로 채워보기로 함.\n",
    "train['Embarked'].fillna('S',inplace=True)"
   ]
  },
  {
   "cell_type": "code",
   "execution_count": 99,
   "metadata": {},
   "outputs": [
    {
     "data": {
      "text/plain": [
       "False"
      ]
     },
     "execution_count": 99,
     "metadata": {},
     "output_type": "execute_result"
    }
   ],
   "source": [
    "#데이터 결측없는 것 확인.\n",
    "train.Embarked.isnull().any()"
   ]
  },
  {
   "cell_type": "code",
   "execution_count": 100,
   "metadata": {},
   "outputs": [
    {
     "data": {
      "text/html": [
       "<style  type=\"text/css\" >\n",
       "#T_8f1a9d1b_b626_11eb_9270_1831bf4eb6f5row0_col0,#T_8f1a9d1b_b626_11eb_9270_1831bf4eb6f5row0_col1{\n",
       "            background-color:  #08306b;\n",
       "            color:  #f1f1f1;\n",
       "        }#T_8f1a9d1b_b626_11eb_9270_1831bf4eb6f5row1_col0{\n",
       "            background-color:  #caddf0;\n",
       "            color:  #000000;\n",
       "        }#T_8f1a9d1b_b626_11eb_9270_1831bf4eb6f5row1_col1{\n",
       "            background-color:  #60a7d2;\n",
       "            color:  #000000;\n",
       "        }#T_8f1a9d1b_b626_11eb_9270_1831bf4eb6f5row2_col0,#T_8f1a9d1b_b626_11eb_9270_1831bf4eb6f5row4_col0{\n",
       "            background-color:  #f2f8fd;\n",
       "            color:  #000000;\n",
       "        }#T_8f1a9d1b_b626_11eb_9270_1831bf4eb6f5row2_col1{\n",
       "            background-color:  #ebf3fb;\n",
       "            color:  #000000;\n",
       "        }#T_8f1a9d1b_b626_11eb_9270_1831bf4eb6f5row3_col0,#T_8f1a9d1b_b626_11eb_9270_1831bf4eb6f5row3_col1{\n",
       "            background-color:  #f4f9fe;\n",
       "            color:  #000000;\n",
       "        }#T_8f1a9d1b_b626_11eb_9270_1831bf4eb6f5row4_col1{\n",
       "            background-color:  #f5f9fe;\n",
       "            color:  #000000;\n",
       "        }#T_8f1a9d1b_b626_11eb_9270_1831bf4eb6f5row5_col0,#T_8f1a9d1b_b626_11eb_9270_1831bf4eb6f5row5_col1,#T_8f1a9d1b_b626_11eb_9270_1831bf4eb6f5row6_col1{\n",
       "            background-color:  #f7fbff;\n",
       "            color:  #000000;\n",
       "        }#T_8f1a9d1b_b626_11eb_9270_1831bf4eb6f5row6_col0{\n",
       "            background-color:  #f6faff;\n",
       "            color:  #000000;\n",
       "        }</style><table id=\"T_8f1a9d1b_b626_11eb_9270_1831bf4eb6f5\" ><thead>    <tr>        <th class=\"index_name level0\" >Survived</th>        <th class=\"col_heading level0 col0\" >0</th>        <th class=\"col_heading level0 col1\" >1</th>    </tr>    <tr>        <th class=\"index_name level0\" >SibSp</th>        <th class=\"blank\" ></th>        <th class=\"blank\" ></th>    </tr></thead><tbody>\n",
       "                <tr>\n",
       "                        <th id=\"T_8f1a9d1b_b626_11eb_9270_1831bf4eb6f5level0_row0\" class=\"row_heading level0 row0\" >0</th>\n",
       "                        <td id=\"T_8f1a9d1b_b626_11eb_9270_1831bf4eb6f5row0_col0\" class=\"data row0 col0\" >398</td>\n",
       "                        <td id=\"T_8f1a9d1b_b626_11eb_9270_1831bf4eb6f5row0_col1\" class=\"data row0 col1\" >210</td>\n",
       "            </tr>\n",
       "            <tr>\n",
       "                        <th id=\"T_8f1a9d1b_b626_11eb_9270_1831bf4eb6f5level0_row1\" class=\"row_heading level0 row1\" >1</th>\n",
       "                        <td id=\"T_8f1a9d1b_b626_11eb_9270_1831bf4eb6f5row1_col0\" class=\"data row1 col0\" >97</td>\n",
       "                        <td id=\"T_8f1a9d1b_b626_11eb_9270_1831bf4eb6f5row1_col1\" class=\"data row1 col1\" >112</td>\n",
       "            </tr>\n",
       "            <tr>\n",
       "                        <th id=\"T_8f1a9d1b_b626_11eb_9270_1831bf4eb6f5level0_row2\" class=\"row_heading level0 row2\" >2</th>\n",
       "                        <td id=\"T_8f1a9d1b_b626_11eb_9270_1831bf4eb6f5row2_col0\" class=\"data row2 col0\" >15</td>\n",
       "                        <td id=\"T_8f1a9d1b_b626_11eb_9270_1831bf4eb6f5row2_col1\" class=\"data row2 col1\" >13</td>\n",
       "            </tr>\n",
       "            <tr>\n",
       "                        <th id=\"T_8f1a9d1b_b626_11eb_9270_1831bf4eb6f5level0_row3\" class=\"row_heading level0 row3\" >3</th>\n",
       "                        <td id=\"T_8f1a9d1b_b626_11eb_9270_1831bf4eb6f5row3_col0\" class=\"data row3 col0\" >12</td>\n",
       "                        <td id=\"T_8f1a9d1b_b626_11eb_9270_1831bf4eb6f5row3_col1\" class=\"data row3 col1\" >4</td>\n",
       "            </tr>\n",
       "            <tr>\n",
       "                        <th id=\"T_8f1a9d1b_b626_11eb_9270_1831bf4eb6f5level0_row4\" class=\"row_heading level0 row4\" >4</th>\n",
       "                        <td id=\"T_8f1a9d1b_b626_11eb_9270_1831bf4eb6f5row4_col0\" class=\"data row4 col0\" >15</td>\n",
       "                        <td id=\"T_8f1a9d1b_b626_11eb_9270_1831bf4eb6f5row4_col1\" class=\"data row4 col1\" >3</td>\n",
       "            </tr>\n",
       "            <tr>\n",
       "                        <th id=\"T_8f1a9d1b_b626_11eb_9270_1831bf4eb6f5level0_row5\" class=\"row_heading level0 row5\" >5</th>\n",
       "                        <td id=\"T_8f1a9d1b_b626_11eb_9270_1831bf4eb6f5row5_col0\" class=\"data row5 col0\" >5</td>\n",
       "                        <td id=\"T_8f1a9d1b_b626_11eb_9270_1831bf4eb6f5row5_col1\" class=\"data row5 col1\" >0</td>\n",
       "            </tr>\n",
       "            <tr>\n",
       "                        <th id=\"T_8f1a9d1b_b626_11eb_9270_1831bf4eb6f5level0_row6\" class=\"row_heading level0 row6\" >8</th>\n",
       "                        <td id=\"T_8f1a9d1b_b626_11eb_9270_1831bf4eb6f5row6_col0\" class=\"data row6 col0\" >7</td>\n",
       "                        <td id=\"T_8f1a9d1b_b626_11eb_9270_1831bf4eb6f5row6_col1\" class=\"data row6 col1\" >0</td>\n",
       "            </tr>\n",
       "    </tbody></table>"
      ],
      "text/plain": [
       "<pandas.io.formats.style.Styler at 0x29c387e8910>"
      ]
     },
     "execution_count": 100,
     "metadata": {},
     "output_type": "execute_result"
    }
   ],
   "source": [
    "pd.crosstab(train.SibSp,train.Survived).style.background_gradient(cmap='Blues')"
   ]
  },
  {
   "cell_type": "code",
   "execution_count": 101,
   "metadata": {},
   "outputs": [
    {
     "data": {
      "text/html": [
       "<style  type=\"text/css\" >\n",
       "#T_92f2feca_b626_11eb_a38a_1831bf4eb6f5row0_col0,#T_92f2feca_b626_11eb_a38a_1831bf4eb6f5row0_col1,#T_92f2feca_b626_11eb_a38a_1831bf4eb6f5row0_col2{\n",
       "            background-color:  #08306b;\n",
       "            color:  #f1f1f1;\n",
       "        }#T_92f2feca_b626_11eb_a38a_1831bf4eb6f5row1_col0{\n",
       "            background-color:  #65aad4;\n",
       "            color:  #000000;\n",
       "        }#T_92f2feca_b626_11eb_a38a_1831bf4eb6f5row1_col1{\n",
       "            background-color:  #7cb7da;\n",
       "            color:  #000000;\n",
       "        }#T_92f2feca_b626_11eb_a38a_1831bf4eb6f5row1_col2{\n",
       "            background-color:  #cbdef1;\n",
       "            color:  #000000;\n",
       "        }#T_92f2feca_b626_11eb_a38a_1831bf4eb6f5row2_col0,#T_92f2feca_b626_11eb_a38a_1831bf4eb6f5row4_col2{\n",
       "            background-color:  #f0f6fd;\n",
       "            color:  #000000;\n",
       "        }#T_92f2feca_b626_11eb_a38a_1831bf4eb6f5row2_col1{\n",
       "            background-color:  #eaf2fb;\n",
       "            color:  #000000;\n",
       "        }#T_92f2feca_b626_11eb_a38a_1831bf4eb6f5row2_col2{\n",
       "            background-color:  #f2f7fd;\n",
       "            color:  #000000;\n",
       "        }#T_92f2feca_b626_11eb_a38a_1831bf4eb6f5row3_col0,#T_92f2feca_b626_11eb_a38a_1831bf4eb6f5row3_col2{\n",
       "            background-color:  #f3f8fe;\n",
       "            color:  #000000;\n",
       "        }#T_92f2feca_b626_11eb_a38a_1831bf4eb6f5row3_col1{\n",
       "            background-color:  #f5fafe;\n",
       "            color:  #000000;\n",
       "        }#T_92f2feca_b626_11eb_a38a_1831bf4eb6f5row4_col0,#T_92f2feca_b626_11eb_a38a_1831bf4eb6f5row4_col1,#T_92f2feca_b626_11eb_a38a_1831bf4eb6f5row5_col0,#T_92f2feca_b626_11eb_a38a_1831bf4eb6f5row5_col1,#T_92f2feca_b626_11eb_a38a_1831bf4eb6f5row5_col2,#T_92f2feca_b626_11eb_a38a_1831bf4eb6f5row6_col0,#T_92f2feca_b626_11eb_a38a_1831bf4eb6f5row6_col1{\n",
       "            background-color:  #f7fbff;\n",
       "            color:  #000000;\n",
       "        }#T_92f2feca_b626_11eb_a38a_1831bf4eb6f5row6_col2{\n",
       "            background-color:  #f6faff;\n",
       "            color:  #000000;\n",
       "        }</style><table id=\"T_92f2feca_b626_11eb_a38a_1831bf4eb6f5\" ><thead>    <tr>        <th class=\"index_name level0\" >Pclass</th>        <th class=\"col_heading level0 col0\" >1</th>        <th class=\"col_heading level0 col1\" >2</th>        <th class=\"col_heading level0 col2\" >3</th>    </tr>    <tr>        <th class=\"index_name level0\" >SibSp</th>        <th class=\"blank\" ></th>        <th class=\"blank\" ></th>        <th class=\"blank\" ></th>    </tr></thead><tbody>\n",
       "                <tr>\n",
       "                        <th id=\"T_92f2feca_b626_11eb_a38a_1831bf4eb6f5level0_row0\" class=\"row_heading level0 row0\" >0</th>\n",
       "                        <td id=\"T_92f2feca_b626_11eb_a38a_1831bf4eb6f5row0_col0\" class=\"data row0 col0\" >137</td>\n",
       "                        <td id=\"T_92f2feca_b626_11eb_a38a_1831bf4eb6f5row0_col1\" class=\"data row0 col1\" >120</td>\n",
       "                        <td id=\"T_92f2feca_b626_11eb_a38a_1831bf4eb6f5row0_col2\" class=\"data row0 col2\" >351</td>\n",
       "            </tr>\n",
       "            <tr>\n",
       "                        <th id=\"T_92f2feca_b626_11eb_a38a_1831bf4eb6f5level0_row1\" class=\"row_heading level0 row1\" >1</th>\n",
       "                        <td id=\"T_92f2feca_b626_11eb_a38a_1831bf4eb6f5row1_col0\" class=\"data row1 col0\" >71</td>\n",
       "                        <td id=\"T_92f2feca_b626_11eb_a38a_1831bf4eb6f5row1_col1\" class=\"data row1 col1\" >55</td>\n",
       "                        <td id=\"T_92f2feca_b626_11eb_a38a_1831bf4eb6f5row1_col2\" class=\"data row1 col2\" >83</td>\n",
       "            </tr>\n",
       "            <tr>\n",
       "                        <th id=\"T_92f2feca_b626_11eb_a38a_1831bf4eb6f5level0_row2\" class=\"row_heading level0 row2\" >2</th>\n",
       "                        <td id=\"T_92f2feca_b626_11eb_a38a_1831bf4eb6f5row2_col0\" class=\"data row2 col0\" >5</td>\n",
       "                        <td id=\"T_92f2feca_b626_11eb_a38a_1831bf4eb6f5row2_col1\" class=\"data row2 col1\" >8</td>\n",
       "                        <td id=\"T_92f2feca_b626_11eb_a38a_1831bf4eb6f5row2_col2\" class=\"data row2 col2\" >15</td>\n",
       "            </tr>\n",
       "            <tr>\n",
       "                        <th id=\"T_92f2feca_b626_11eb_a38a_1831bf4eb6f5level0_row3\" class=\"row_heading level0 row3\" >3</th>\n",
       "                        <td id=\"T_92f2feca_b626_11eb_a38a_1831bf4eb6f5row3_col0\" class=\"data row3 col0\" >3</td>\n",
       "                        <td id=\"T_92f2feca_b626_11eb_a38a_1831bf4eb6f5row3_col1\" class=\"data row3 col1\" >1</td>\n",
       "                        <td id=\"T_92f2feca_b626_11eb_a38a_1831bf4eb6f5row3_col2\" class=\"data row3 col2\" >12</td>\n",
       "            </tr>\n",
       "            <tr>\n",
       "                        <th id=\"T_92f2feca_b626_11eb_a38a_1831bf4eb6f5level0_row4\" class=\"row_heading level0 row4\" >4</th>\n",
       "                        <td id=\"T_92f2feca_b626_11eb_a38a_1831bf4eb6f5row4_col0\" class=\"data row4 col0\" >0</td>\n",
       "                        <td id=\"T_92f2feca_b626_11eb_a38a_1831bf4eb6f5row4_col1\" class=\"data row4 col1\" >0</td>\n",
       "                        <td id=\"T_92f2feca_b626_11eb_a38a_1831bf4eb6f5row4_col2\" class=\"data row4 col2\" >18</td>\n",
       "            </tr>\n",
       "            <tr>\n",
       "                        <th id=\"T_92f2feca_b626_11eb_a38a_1831bf4eb6f5level0_row5\" class=\"row_heading level0 row5\" >5</th>\n",
       "                        <td id=\"T_92f2feca_b626_11eb_a38a_1831bf4eb6f5row5_col0\" class=\"data row5 col0\" >0</td>\n",
       "                        <td id=\"T_92f2feca_b626_11eb_a38a_1831bf4eb6f5row5_col1\" class=\"data row5 col1\" >0</td>\n",
       "                        <td id=\"T_92f2feca_b626_11eb_a38a_1831bf4eb6f5row5_col2\" class=\"data row5 col2\" >5</td>\n",
       "            </tr>\n",
       "            <tr>\n",
       "                        <th id=\"T_92f2feca_b626_11eb_a38a_1831bf4eb6f5level0_row6\" class=\"row_heading level0 row6\" >8</th>\n",
       "                        <td id=\"T_92f2feca_b626_11eb_a38a_1831bf4eb6f5row6_col0\" class=\"data row6 col0\" >0</td>\n",
       "                        <td id=\"T_92f2feca_b626_11eb_a38a_1831bf4eb6f5row6_col1\" class=\"data row6 col1\" >0</td>\n",
       "                        <td id=\"T_92f2feca_b626_11eb_a38a_1831bf4eb6f5row6_col2\" class=\"data row6 col2\" >7</td>\n",
       "            </tr>\n",
       "    </tbody></table>"
      ],
      "text/plain": [
       "<pandas.io.formats.style.Styler at 0x29c387ff610>"
      ]
     },
     "execution_count": 101,
     "metadata": {},
     "output_type": "execute_result"
    }
   ],
   "source": [
    "pd.crosstab(train.SibSp,train.Pclass).style.background_gradient(cmap='Blues')"
   ]
  },
  {
   "cell_type": "code",
   "execution_count": 102,
   "metadata": {},
   "outputs": [
    {
     "data": {
      "text/html": [
       "<style  type=\"text/css\" >\n",
       "#T_934c30e0_b626_11eb_909e_1831bf4eb6f5row0_col0,#T_934c30e0_b626_11eb_909e_1831bf4eb6f5row0_col1{\n",
       "            background-color:  #08306b;\n",
       "            color:  #f1f1f1;\n",
       "        }#T_934c30e0_b626_11eb_909e_1831bf4eb6f5row1_col0{\n",
       "            background-color:  #e0ecf8;\n",
       "            color:  #000000;\n",
       "        }#T_934c30e0_b626_11eb_909e_1831bf4eb6f5row1_col1{\n",
       "            background-color:  #bdd7ec;\n",
       "            color:  #000000;\n",
       "        }#T_934c30e0_b626_11eb_909e_1831bf4eb6f5row2_col0{\n",
       "            background-color:  #e6f0f9;\n",
       "            color:  #000000;\n",
       "        }#T_934c30e0_b626_11eb_909e_1831bf4eb6f5row2_col1{\n",
       "            background-color:  #d6e5f4;\n",
       "            color:  #000000;\n",
       "        }#T_934c30e0_b626_11eb_909e_1831bf4eb6f5row3_col0,#T_934c30e0_b626_11eb_909e_1831bf4eb6f5row4_col1,#T_934c30e0_b626_11eb_909e_1831bf4eb6f5row6_col0,#T_934c30e0_b626_11eb_909e_1831bf4eb6f5row6_col1{\n",
       "            background-color:  #f7fbff;\n",
       "            color:  #000000;\n",
       "        }#T_934c30e0_b626_11eb_909e_1831bf4eb6f5row3_col1{\n",
       "            background-color:  #f5f9fe;\n",
       "            color:  #000000;\n",
       "        }#T_934c30e0_b626_11eb_909e_1831bf4eb6f5row4_col0,#T_934c30e0_b626_11eb_909e_1831bf4eb6f5row5_col0,#T_934c30e0_b626_11eb_909e_1831bf4eb6f5row5_col1{\n",
       "            background-color:  #f6faff;\n",
       "            color:  #000000;\n",
       "        }</style><table id=\"T_934c30e0_b626_11eb_909e_1831bf4eb6f5\" ><thead>    <tr>        <th class=\"index_name level0\" >Survived</th>        <th class=\"col_heading level0 col0\" >0</th>        <th class=\"col_heading level0 col1\" >1</th>    </tr>    <tr>        <th class=\"index_name level0\" >Parch</th>        <th class=\"blank\" ></th>        <th class=\"blank\" ></th>    </tr></thead><tbody>\n",
       "                <tr>\n",
       "                        <th id=\"T_934c30e0_b626_11eb_909e_1831bf4eb6f5level0_row0\" class=\"row_heading level0 row0\" >0</th>\n",
       "                        <td id=\"T_934c30e0_b626_11eb_909e_1831bf4eb6f5row0_col0\" class=\"data row0 col0\" >445</td>\n",
       "                        <td id=\"T_934c30e0_b626_11eb_909e_1831bf4eb6f5row0_col1\" class=\"data row0 col1\" >233</td>\n",
       "            </tr>\n",
       "            <tr>\n",
       "                        <th id=\"T_934c30e0_b626_11eb_909e_1831bf4eb6f5level0_row1\" class=\"row_heading level0 row1\" >1</th>\n",
       "                        <td id=\"T_934c30e0_b626_11eb_909e_1831bf4eb6f5row1_col0\" class=\"data row1 col0\" >53</td>\n",
       "                        <td id=\"T_934c30e0_b626_11eb_909e_1831bf4eb6f5row1_col1\" class=\"data row1 col1\" >65</td>\n",
       "            </tr>\n",
       "            <tr>\n",
       "                        <th id=\"T_934c30e0_b626_11eb_909e_1831bf4eb6f5level0_row2\" class=\"row_heading level0 row2\" >2</th>\n",
       "                        <td id=\"T_934c30e0_b626_11eb_909e_1831bf4eb6f5row2_col0\" class=\"data row2 col0\" >40</td>\n",
       "                        <td id=\"T_934c30e0_b626_11eb_909e_1831bf4eb6f5row2_col1\" class=\"data row2 col1\" >40</td>\n",
       "            </tr>\n",
       "            <tr>\n",
       "                        <th id=\"T_934c30e0_b626_11eb_909e_1831bf4eb6f5level0_row3\" class=\"row_heading level0 row3\" >3</th>\n",
       "                        <td id=\"T_934c30e0_b626_11eb_909e_1831bf4eb6f5row3_col0\" class=\"data row3 col0\" >2</td>\n",
       "                        <td id=\"T_934c30e0_b626_11eb_909e_1831bf4eb6f5row3_col1\" class=\"data row3 col1\" >3</td>\n",
       "            </tr>\n",
       "            <tr>\n",
       "                        <th id=\"T_934c30e0_b626_11eb_909e_1831bf4eb6f5level0_row4\" class=\"row_heading level0 row4\" >4</th>\n",
       "                        <td id=\"T_934c30e0_b626_11eb_909e_1831bf4eb6f5row4_col0\" class=\"data row4 col0\" >4</td>\n",
       "                        <td id=\"T_934c30e0_b626_11eb_909e_1831bf4eb6f5row4_col1\" class=\"data row4 col1\" >0</td>\n",
       "            </tr>\n",
       "            <tr>\n",
       "                        <th id=\"T_934c30e0_b626_11eb_909e_1831bf4eb6f5level0_row5\" class=\"row_heading level0 row5\" >5</th>\n",
       "                        <td id=\"T_934c30e0_b626_11eb_909e_1831bf4eb6f5row5_col0\" class=\"data row5 col0\" >4</td>\n",
       "                        <td id=\"T_934c30e0_b626_11eb_909e_1831bf4eb6f5row5_col1\" class=\"data row5 col1\" >1</td>\n",
       "            </tr>\n",
       "            <tr>\n",
       "                        <th id=\"T_934c30e0_b626_11eb_909e_1831bf4eb6f5level0_row6\" class=\"row_heading level0 row6\" >6</th>\n",
       "                        <td id=\"T_934c30e0_b626_11eb_909e_1831bf4eb6f5row6_col0\" class=\"data row6 col0\" >1</td>\n",
       "                        <td id=\"T_934c30e0_b626_11eb_909e_1831bf4eb6f5row6_col1\" class=\"data row6 col1\" >0</td>\n",
       "            </tr>\n",
       "    </tbody></table>"
      ],
      "text/plain": [
       "<pandas.io.formats.style.Styler at 0x29c388533a0>"
      ]
     },
     "execution_count": 102,
     "metadata": {},
     "output_type": "execute_result"
    }
   ],
   "source": [
    "pd.crosstab(train.Parch,train.Survived).style.background_gradient(cmap='Blues')"
   ]
  },
  {
   "cell_type": "code",
   "execution_count": 103,
   "metadata": {},
   "outputs": [
    {
     "data": {
      "text/html": [
       "<style  type=\"text/css\" >\n",
       "#T_942ee2c7_b626_11eb_bc6f_1831bf4eb6f5row0_col0,#T_942ee2c7_b626_11eb_bc6f_1831bf4eb6f5row0_col1,#T_942ee2c7_b626_11eb_bc6f_1831bf4eb6f5row0_col2{\n",
       "            background-color:  #08306b;\n",
       "            color:  #f1f1f1;\n",
       "        }#T_942ee2c7_b626_11eb_bc6f_1831bf4eb6f5row1_col0{\n",
       "            background-color:  #d2e3f3;\n",
       "            color:  #000000;\n",
       "        }#T_942ee2c7_b626_11eb_bc6f_1831bf4eb6f5row1_col1{\n",
       "            background-color:  #c8dcf0;\n",
       "            color:  #000000;\n",
       "        }#T_942ee2c7_b626_11eb_bc6f_1831bf4eb6f5row1_col2{\n",
       "            background-color:  #dbe9f6;\n",
       "            color:  #000000;\n",
       "        }#T_942ee2c7_b626_11eb_bc6f_1831bf4eb6f5row2_col0{\n",
       "            background-color:  #deebf7;\n",
       "            color:  #000000;\n",
       "        }#T_942ee2c7_b626_11eb_bc6f_1831bf4eb6f5row2_col1{\n",
       "            background-color:  #dfecf7;\n",
       "            color:  #000000;\n",
       "        }#T_942ee2c7_b626_11eb_bc6f_1831bf4eb6f5row2_col2{\n",
       "            background-color:  #e1edf8;\n",
       "            color:  #000000;\n",
       "        }#T_942ee2c7_b626_11eb_bc6f_1831bf4eb6f5row3_col0,#T_942ee2c7_b626_11eb_bc6f_1831bf4eb6f5row4_col1,#T_942ee2c7_b626_11eb_bc6f_1831bf4eb6f5row5_col0,#T_942ee2c7_b626_11eb_bc6f_1831bf4eb6f5row5_col1,#T_942ee2c7_b626_11eb_bc6f_1831bf4eb6f5row6_col0,#T_942ee2c7_b626_11eb_bc6f_1831bf4eb6f5row6_col1,#T_942ee2c7_b626_11eb_bc6f_1831bf4eb6f5row6_col2{\n",
       "            background-color:  #f7fbff;\n",
       "            color:  #000000;\n",
       "        }#T_942ee2c7_b626_11eb_bc6f_1831bf4eb6f5row3_col1{\n",
       "            background-color:  #f5f9fe;\n",
       "            color:  #000000;\n",
       "        }#T_942ee2c7_b626_11eb_bc6f_1831bf4eb6f5row3_col2,#T_942ee2c7_b626_11eb_bc6f_1831bf4eb6f5row4_col0,#T_942ee2c7_b626_11eb_bc6f_1831bf4eb6f5row4_col2{\n",
       "            background-color:  #f6faff;\n",
       "            color:  #000000;\n",
       "        }#T_942ee2c7_b626_11eb_bc6f_1831bf4eb6f5row5_col2{\n",
       "            background-color:  #f5fafe;\n",
       "            color:  #000000;\n",
       "        }</style><table id=\"T_942ee2c7_b626_11eb_bc6f_1831bf4eb6f5\" ><thead>    <tr>        <th class=\"index_name level0\" >Pclass</th>        <th class=\"col_heading level0 col0\" >1</th>        <th class=\"col_heading level0 col1\" >2</th>        <th class=\"col_heading level0 col2\" >3</th>    </tr>    <tr>        <th class=\"index_name level0\" >Parch</th>        <th class=\"blank\" ></th>        <th class=\"blank\" ></th>        <th class=\"blank\" ></th>    </tr></thead><tbody>\n",
       "                <tr>\n",
       "                        <th id=\"T_942ee2c7_b626_11eb_bc6f_1831bf4eb6f5level0_row0\" class=\"row_heading level0 row0\" >0</th>\n",
       "                        <td id=\"T_942ee2c7_b626_11eb_bc6f_1831bf4eb6f5row0_col0\" class=\"data row0 col0\" >163</td>\n",
       "                        <td id=\"T_942ee2c7_b626_11eb_bc6f_1831bf4eb6f5row0_col1\" class=\"data row0 col1\" >134</td>\n",
       "                        <td id=\"T_942ee2c7_b626_11eb_bc6f_1831bf4eb6f5row0_col2\" class=\"data row0 col2\" >381</td>\n",
       "            </tr>\n",
       "            <tr>\n",
       "                        <th id=\"T_942ee2c7_b626_11eb_bc6f_1831bf4eb6f5level0_row1\" class=\"row_heading level0 row1\" >1</th>\n",
       "                        <td id=\"T_942ee2c7_b626_11eb_bc6f_1831bf4eb6f5row1_col0\" class=\"data row1 col0\" >31</td>\n",
       "                        <td id=\"T_942ee2c7_b626_11eb_bc6f_1831bf4eb6f5row1_col1\" class=\"data row1 col1\" >32</td>\n",
       "                        <td id=\"T_942ee2c7_b626_11eb_bc6f_1831bf4eb6f5row1_col2\" class=\"data row1 col2\" >55</td>\n",
       "            </tr>\n",
       "            <tr>\n",
       "                        <th id=\"T_942ee2c7_b626_11eb_bc6f_1831bf4eb6f5level0_row2\" class=\"row_heading level0 row2\" >2</th>\n",
       "                        <td id=\"T_942ee2c7_b626_11eb_bc6f_1831bf4eb6f5row2_col0\" class=\"data row2 col0\" >21</td>\n",
       "                        <td id=\"T_942ee2c7_b626_11eb_bc6f_1831bf4eb6f5row2_col1\" class=\"data row2 col1\" >16</td>\n",
       "                        <td id=\"T_942ee2c7_b626_11eb_bc6f_1831bf4eb6f5row2_col2\" class=\"data row2 col2\" >43</td>\n",
       "            </tr>\n",
       "            <tr>\n",
       "                        <th id=\"T_942ee2c7_b626_11eb_bc6f_1831bf4eb6f5level0_row3\" class=\"row_heading level0 row3\" >3</th>\n",
       "                        <td id=\"T_942ee2c7_b626_11eb_bc6f_1831bf4eb6f5row3_col0\" class=\"data row3 col0\" >0</td>\n",
       "                        <td id=\"T_942ee2c7_b626_11eb_bc6f_1831bf4eb6f5row3_col1\" class=\"data row3 col1\" >2</td>\n",
       "                        <td id=\"T_942ee2c7_b626_11eb_bc6f_1831bf4eb6f5row3_col2\" class=\"data row3 col2\" >3</td>\n",
       "            </tr>\n",
       "            <tr>\n",
       "                        <th id=\"T_942ee2c7_b626_11eb_bc6f_1831bf4eb6f5level0_row4\" class=\"row_heading level0 row4\" >4</th>\n",
       "                        <td id=\"T_942ee2c7_b626_11eb_bc6f_1831bf4eb6f5row4_col0\" class=\"data row4 col0\" >1</td>\n",
       "                        <td id=\"T_942ee2c7_b626_11eb_bc6f_1831bf4eb6f5row4_col1\" class=\"data row4 col1\" >0</td>\n",
       "                        <td id=\"T_942ee2c7_b626_11eb_bc6f_1831bf4eb6f5row4_col2\" class=\"data row4 col2\" >3</td>\n",
       "            </tr>\n",
       "            <tr>\n",
       "                        <th id=\"T_942ee2c7_b626_11eb_bc6f_1831bf4eb6f5level0_row5\" class=\"row_heading level0 row5\" >5</th>\n",
       "                        <td id=\"T_942ee2c7_b626_11eb_bc6f_1831bf4eb6f5row5_col0\" class=\"data row5 col0\" >0</td>\n",
       "                        <td id=\"T_942ee2c7_b626_11eb_bc6f_1831bf4eb6f5row5_col1\" class=\"data row5 col1\" >0</td>\n",
       "                        <td id=\"T_942ee2c7_b626_11eb_bc6f_1831bf4eb6f5row5_col2\" class=\"data row5 col2\" >5</td>\n",
       "            </tr>\n",
       "            <tr>\n",
       "                        <th id=\"T_942ee2c7_b626_11eb_bc6f_1831bf4eb6f5level0_row6\" class=\"row_heading level0 row6\" >6</th>\n",
       "                        <td id=\"T_942ee2c7_b626_11eb_bc6f_1831bf4eb6f5row6_col0\" class=\"data row6 col0\" >0</td>\n",
       "                        <td id=\"T_942ee2c7_b626_11eb_bc6f_1831bf4eb6f5row6_col1\" class=\"data row6 col1\" >0</td>\n",
       "                        <td id=\"T_942ee2c7_b626_11eb_bc6f_1831bf4eb6f5row6_col2\" class=\"data row6 col2\" >1</td>\n",
       "            </tr>\n",
       "    </tbody></table>"
      ],
      "text/plain": [
       "<pandas.io.formats.style.Styler at 0x29c38855040>"
      ]
     },
     "execution_count": 103,
     "metadata": {},
     "output_type": "execute_result"
    }
   ],
   "source": [
    "pd.crosstab(train.Parch,train.Pclass).style.background_gradient(cmap='Blues')"
   ]
  },
  {
   "cell_type": "code",
   "execution_count": 104,
   "metadata": {},
   "outputs": [
    {
     "data": {
      "text/html": [
       "<style  type=\"text/css\" >\n",
       "#T_9463a66b_b626_11eb_aec4_1831bf4eb6f5row0_col0,#T_9463a66b_b626_11eb_aec4_1831bf4eb6f5row0_col2,#T_9463a66b_b626_11eb_aec4_1831bf4eb6f5row0_col4,#T_9463a66b_b626_11eb_aec4_1831bf4eb6f5row0_col5,#T_9463a66b_b626_11eb_aec4_1831bf4eb6f5row0_col8,#T_9463a66b_b626_11eb_aec4_1831bf4eb6f5row0_col9,#T_9463a66b_b626_11eb_aec4_1831bf4eb6f5row0_col10,#T_9463a66b_b626_11eb_aec4_1831bf4eb6f5row0_col11,#T_9463a66b_b626_11eb_aec4_1831bf4eb6f5row1_col1,#T_9463a66b_b626_11eb_aec4_1831bf4eb6f5row1_col5,#T_9463a66b_b626_11eb_aec4_1831bf4eb6f5row1_col6,#T_9463a66b_b626_11eb_aec4_1831bf4eb6f5row1_col7,#T_9463a66b_b626_11eb_aec4_1831bf4eb6f5row1_col8,#T_9463a66b_b626_11eb_aec4_1831bf4eb6f5row1_col9,#T_9463a66b_b626_11eb_aec4_1831bf4eb6f5row1_col10,#T_9463a66b_b626_11eb_aec4_1831bf4eb6f5row1_col11,#T_9463a66b_b626_11eb_aec4_1831bf4eb6f5row2_col3,#T_9463a66b_b626_11eb_aec4_1831bf4eb6f5row2_col7{\n",
       "            background-color:  #f7fbff;\n",
       "            color:  #000000;\n",
       "        }#T_9463a66b_b626_11eb_aec4_1831bf4eb6f5row0_col1{\n",
       "            background-color:  #135fa7;\n",
       "            color:  #f1f1f1;\n",
       "        }#T_9463a66b_b626_11eb_aec4_1831bf4eb6f5row0_col3,#T_9463a66b_b626_11eb_aec4_1831bf4eb6f5row0_col7,#T_9463a66b_b626_11eb_aec4_1831bf4eb6f5row2_col0,#T_9463a66b_b626_11eb_aec4_1831bf4eb6f5row2_col1,#T_9463a66b_b626_11eb_aec4_1831bf4eb6f5row2_col2,#T_9463a66b_b626_11eb_aec4_1831bf4eb6f5row2_col4,#T_9463a66b_b626_11eb_aec4_1831bf4eb6f5row2_col5,#T_9463a66b_b626_11eb_aec4_1831bf4eb6f5row2_col6,#T_9463a66b_b626_11eb_aec4_1831bf4eb6f5row2_col8,#T_9463a66b_b626_11eb_aec4_1831bf4eb6f5row2_col9,#T_9463a66b_b626_11eb_aec4_1831bf4eb6f5row2_col10,#T_9463a66b_b626_11eb_aec4_1831bf4eb6f5row2_col11{\n",
       "            background-color:  #08306b;\n",
       "            color:  #f1f1f1;\n",
       "        }#T_9463a66b_b626_11eb_aec4_1831bf4eb6f5row0_col6{\n",
       "            background-color:  #e5eff9;\n",
       "            color:  #000000;\n",
       "        }#T_9463a66b_b626_11eb_aec4_1831bf4eb6f5row1_col0{\n",
       "            background-color:  #eef5fc;\n",
       "            color:  #000000;\n",
       "        }#T_9463a66b_b626_11eb_aec4_1831bf4eb6f5row1_col2{\n",
       "            background-color:  #ddeaf7;\n",
       "            color:  #000000;\n",
       "        }#T_9463a66b_b626_11eb_aec4_1831bf4eb6f5row1_col3{\n",
       "            background-color:  #d1e2f3;\n",
       "            color:  #000000;\n",
       "        }#T_9463a66b_b626_11eb_aec4_1831bf4eb6f5row1_col4{\n",
       "            background-color:  #abd0e6;\n",
       "            color:  #000000;\n",
       "        }</style><table id=\"T_9463a66b_b626_11eb_aec4_1831bf4eb6f5\" ><thead>    <tr>        <th class=\"index_name level0\" >SibSp</th>        <th class=\"col_heading level0 col0\" colspan=2>0</th>        <th class=\"col_heading level0 col2\" colspan=2>1</th>        <th class=\"col_heading level0 col4\" colspan=2>2</th>        <th class=\"col_heading level0 col6\" colspan=2>3</th>        <th class=\"col_heading level0 col8\" colspan=2>4</th>        <th class=\"col_heading level0 col10\" >5</th>        <th class=\"col_heading level0 col11\" >8</th>    </tr>    <tr>        <th class=\"index_name level1\" >Survived</th>        <th class=\"col_heading level1 col0\" >0</th>        <th class=\"col_heading level1 col1\" >1</th>        <th class=\"col_heading level1 col2\" >0</th>        <th class=\"col_heading level1 col3\" >1</th>        <th class=\"col_heading level1 col4\" >0</th>        <th class=\"col_heading level1 col5\" >1</th>        <th class=\"col_heading level1 col6\" >0</th>        <th class=\"col_heading level1 col7\" >1</th>        <th class=\"col_heading level1 col8\" >0</th>        <th class=\"col_heading level1 col9\" >1</th>        <th class=\"col_heading level1 col10\" >0</th>        <th class=\"col_heading level1 col11\" >0</th>    </tr>    <tr>        <th class=\"index_name level0\" >Pclass</th>        <th class=\"blank\" ></th>        <th class=\"blank\" ></th>        <th class=\"blank\" ></th>        <th class=\"blank\" ></th>        <th class=\"blank\" ></th>        <th class=\"blank\" ></th>        <th class=\"blank\" ></th>        <th class=\"blank\" ></th>        <th class=\"blank\" ></th>        <th class=\"blank\" ></th>        <th class=\"blank\" ></th>        <th class=\"blank\" ></th>    </tr></thead><tbody>\n",
       "                <tr>\n",
       "                        <th id=\"T_9463a66b_b626_11eb_aec4_1831bf4eb6f5level0_row0\" class=\"row_heading level0 row0\" >1</th>\n",
       "                        <td id=\"T_9463a66b_b626_11eb_aec4_1831bf4eb6f5row0_col0\" class=\"data row0 col0\" >60</td>\n",
       "                        <td id=\"T_9463a66b_b626_11eb_aec4_1831bf4eb6f5row0_col1\" class=\"data row0 col1\" >77</td>\n",
       "                        <td id=\"T_9463a66b_b626_11eb_aec4_1831bf4eb6f5row0_col2\" class=\"data row0 col2\" >18</td>\n",
       "                        <td id=\"T_9463a66b_b626_11eb_aec4_1831bf4eb6f5row0_col3\" class=\"data row0 col3\" >53</td>\n",
       "                        <td id=\"T_9463a66b_b626_11eb_aec4_1831bf4eb6f5row0_col4\" class=\"data row0 col4\" >1</td>\n",
       "                        <td id=\"T_9463a66b_b626_11eb_aec4_1831bf4eb6f5row0_col5\" class=\"data row0 col5\" >4</td>\n",
       "                        <td id=\"T_9463a66b_b626_11eb_aec4_1831bf4eb6f5row0_col6\" class=\"data row0 col6\" >1</td>\n",
       "                        <td id=\"T_9463a66b_b626_11eb_aec4_1831bf4eb6f5row0_col7\" class=\"data row0 col7\" >2</td>\n",
       "                        <td id=\"T_9463a66b_b626_11eb_aec4_1831bf4eb6f5row0_col8\" class=\"data row0 col8\" >0</td>\n",
       "                        <td id=\"T_9463a66b_b626_11eb_aec4_1831bf4eb6f5row0_col9\" class=\"data row0 col9\" >0</td>\n",
       "                        <td id=\"T_9463a66b_b626_11eb_aec4_1831bf4eb6f5row0_col10\" class=\"data row0 col10\" >0</td>\n",
       "                        <td id=\"T_9463a66b_b626_11eb_aec4_1831bf4eb6f5row0_col11\" class=\"data row0 col11\" >0</td>\n",
       "            </tr>\n",
       "            <tr>\n",
       "                        <th id=\"T_9463a66b_b626_11eb_aec4_1831bf4eb6f5level0_row1\" class=\"row_heading level0 row1\" >2</th>\n",
       "                        <td id=\"T_9463a66b_b626_11eb_aec4_1831bf4eb6f5row1_col0\" class=\"data row1 col0\" >70</td>\n",
       "                        <td id=\"T_9463a66b_b626_11eb_aec4_1831bf4eb6f5row1_col1\" class=\"data row1 col1\" >50</td>\n",
       "                        <td id=\"T_9463a66b_b626_11eb_aec4_1831bf4eb6f5row1_col2\" class=\"data row1 col2\" >23</td>\n",
       "                        <td id=\"T_9463a66b_b626_11eb_aec4_1831bf4eb6f5row1_col3\" class=\"data row1 col3\" >32</td>\n",
       "                        <td id=\"T_9463a66b_b626_11eb_aec4_1831bf4eb6f5row1_col4\" class=\"data row1 col4\" >4</td>\n",
       "                        <td id=\"T_9463a66b_b626_11eb_aec4_1831bf4eb6f5row1_col5\" class=\"data row1 col5\" >4</td>\n",
       "                        <td id=\"T_9463a66b_b626_11eb_aec4_1831bf4eb6f5row1_col6\" class=\"data row1 col6\" >0</td>\n",
       "                        <td id=\"T_9463a66b_b626_11eb_aec4_1831bf4eb6f5row1_col7\" class=\"data row1 col7\" >1</td>\n",
       "                        <td id=\"T_9463a66b_b626_11eb_aec4_1831bf4eb6f5row1_col8\" class=\"data row1 col8\" >0</td>\n",
       "                        <td id=\"T_9463a66b_b626_11eb_aec4_1831bf4eb6f5row1_col9\" class=\"data row1 col9\" >0</td>\n",
       "                        <td id=\"T_9463a66b_b626_11eb_aec4_1831bf4eb6f5row1_col10\" class=\"data row1 col10\" >0</td>\n",
       "                        <td id=\"T_9463a66b_b626_11eb_aec4_1831bf4eb6f5row1_col11\" class=\"data row1 col11\" >0</td>\n",
       "            </tr>\n",
       "            <tr>\n",
       "                        <th id=\"T_9463a66b_b626_11eb_aec4_1831bf4eb6f5level0_row2\" class=\"row_heading level0 row2\" >3</th>\n",
       "                        <td id=\"T_9463a66b_b626_11eb_aec4_1831bf4eb6f5row2_col0\" class=\"data row2 col0\" >268</td>\n",
       "                        <td id=\"T_9463a66b_b626_11eb_aec4_1831bf4eb6f5row2_col1\" class=\"data row2 col1\" >83</td>\n",
       "                        <td id=\"T_9463a66b_b626_11eb_aec4_1831bf4eb6f5row2_col2\" class=\"data row2 col2\" >56</td>\n",
       "                        <td id=\"T_9463a66b_b626_11eb_aec4_1831bf4eb6f5row2_col3\" class=\"data row2 col3\" >27</td>\n",
       "                        <td id=\"T_9463a66b_b626_11eb_aec4_1831bf4eb6f5row2_col4\" class=\"data row2 col4\" >10</td>\n",
       "                        <td id=\"T_9463a66b_b626_11eb_aec4_1831bf4eb6f5row2_col5\" class=\"data row2 col5\" >5</td>\n",
       "                        <td id=\"T_9463a66b_b626_11eb_aec4_1831bf4eb6f5row2_col6\" class=\"data row2 col6\" >11</td>\n",
       "                        <td id=\"T_9463a66b_b626_11eb_aec4_1831bf4eb6f5row2_col7\" class=\"data row2 col7\" >1</td>\n",
       "                        <td id=\"T_9463a66b_b626_11eb_aec4_1831bf4eb6f5row2_col8\" class=\"data row2 col8\" >15</td>\n",
       "                        <td id=\"T_9463a66b_b626_11eb_aec4_1831bf4eb6f5row2_col9\" class=\"data row2 col9\" >3</td>\n",
       "                        <td id=\"T_9463a66b_b626_11eb_aec4_1831bf4eb6f5row2_col10\" class=\"data row2 col10\" >5</td>\n",
       "                        <td id=\"T_9463a66b_b626_11eb_aec4_1831bf4eb6f5row2_col11\" class=\"data row2 col11\" >7</td>\n",
       "            </tr>\n",
       "    </tbody></table>"
      ],
      "text/plain": [
       "<pandas.io.formats.style.Styler at 0x29c3103abe0>"
      ]
     },
     "execution_count": 104,
     "metadata": {},
     "output_type": "execute_result"
    }
   ],
   "source": [
    "pd.crosstab(train.Pclass,[train.SibSp,train.Survived]).style.background_gradient(cmap='Blues')"
   ]
  },
  {
   "cell_type": "code",
   "execution_count": 105,
   "metadata": {},
   "outputs": [
    {
     "data": {
      "text/html": [
       "<style  type=\"text/css\" >\n",
       "#T_952b8fba_b626_11eb_9afa_1831bf4eb6f5row0_col0,#T_952b8fba_b626_11eb_9afa_1831bf4eb6f5row0_col6,#T_952b8fba_b626_11eb_9afa_1831bf4eb6f5row0_col7,#T_952b8fba_b626_11eb_9afa_1831bf4eb6f5row0_col9,#T_952b8fba_b626_11eb_9afa_1831bf4eb6f5row0_col10,#T_952b8fba_b626_11eb_9afa_1831bf4eb6f5row0_col11,#T_952b8fba_b626_11eb_9afa_1831bf4eb6f5row1_col1,#T_952b8fba_b626_11eb_9afa_1831bf4eb6f5row1_col2,#T_952b8fba_b626_11eb_9afa_1831bf4eb6f5row1_col4,#T_952b8fba_b626_11eb_9afa_1831bf4eb6f5row1_col6,#T_952b8fba_b626_11eb_9afa_1831bf4eb6f5row1_col8,#T_952b8fba_b626_11eb_9afa_1831bf4eb6f5row1_col9,#T_952b8fba_b626_11eb_9afa_1831bf4eb6f5row1_col10,#T_952b8fba_b626_11eb_9afa_1831bf4eb6f5row1_col11,#T_952b8fba_b626_11eb_9afa_1831bf4eb6f5row2_col3,#T_952b8fba_b626_11eb_9afa_1831bf4eb6f5row2_col5{\n",
       "            background-color:  #f7fbff;\n",
       "            color:  #000000;\n",
       "        }#T_952b8fba_b626_11eb_9afa_1831bf4eb6f5row0_col1,#T_952b8fba_b626_11eb_9afa_1831bf4eb6f5row0_col5,#T_952b8fba_b626_11eb_9afa_1831bf4eb6f5row1_col3,#T_952b8fba_b626_11eb_9afa_1831bf4eb6f5row1_col7,#T_952b8fba_b626_11eb_9afa_1831bf4eb6f5row2_col0,#T_952b8fba_b626_11eb_9afa_1831bf4eb6f5row2_col2,#T_952b8fba_b626_11eb_9afa_1831bf4eb6f5row2_col4,#T_952b8fba_b626_11eb_9afa_1831bf4eb6f5row2_col6,#T_952b8fba_b626_11eb_9afa_1831bf4eb6f5row2_col8,#T_952b8fba_b626_11eb_9afa_1831bf4eb6f5row2_col9,#T_952b8fba_b626_11eb_9afa_1831bf4eb6f5row2_col10,#T_952b8fba_b626_11eb_9afa_1831bf4eb6f5row2_col11{\n",
       "            background-color:  #08306b;\n",
       "            color:  #f1f1f1;\n",
       "        }#T_952b8fba_b626_11eb_9afa_1831bf4eb6f5row0_col2{\n",
       "            background-color:  #e9f2fa;\n",
       "            color:  #000000;\n",
       "        }#T_952b8fba_b626_11eb_9afa_1831bf4eb6f5row0_col3{\n",
       "            background-color:  #c6dbef;\n",
       "            color:  #000000;\n",
       "        }#T_952b8fba_b626_11eb_9afa_1831bf4eb6f5row0_col4{\n",
       "            background-color:  #eaf2fb;\n",
       "            color:  #000000;\n",
       "        }#T_952b8fba_b626_11eb_9afa_1831bf4eb6f5row0_col8{\n",
       "            background-color:  #abd0e6;\n",
       "            color:  #000000;\n",
       "        }#T_952b8fba_b626_11eb_9afa_1831bf4eb6f5row1_col0{\n",
       "            background-color:  #e4eff9;\n",
       "            color:  #000000;\n",
       "        }#T_952b8fba_b626_11eb_9afa_1831bf4eb6f5row1_col5{\n",
       "            background-color:  #94c4df;\n",
       "            color:  #000000;\n",
       "        }#T_952b8fba_b626_11eb_9afa_1831bf4eb6f5row2_col1{\n",
       "            background-color:  #2272b6;\n",
       "            color:  #f1f1f1;\n",
       "        }#T_952b8fba_b626_11eb_9afa_1831bf4eb6f5row2_col7{\n",
       "            background-color:  #6aaed6;\n",
       "            color:  #000000;\n",
       "        }</style><table id=\"T_952b8fba_b626_11eb_9afa_1831bf4eb6f5\" ><thead>    <tr>        <th class=\"index_name level0\" >Parch</th>        <th class=\"col_heading level0 col0\" colspan=2>0</th>        <th class=\"col_heading level0 col2\" colspan=2>1</th>        <th class=\"col_heading level0 col4\" colspan=2>2</th>        <th class=\"col_heading level0 col6\" colspan=2>3</th>        <th class=\"col_heading level0 col8\" >4</th>        <th class=\"col_heading level0 col9\" colspan=2>5</th>        <th class=\"col_heading level0 col11\" >6</th>    </tr>    <tr>        <th class=\"index_name level1\" >Survived</th>        <th class=\"col_heading level1 col0\" >0</th>        <th class=\"col_heading level1 col1\" >1</th>        <th class=\"col_heading level1 col2\" >0</th>        <th class=\"col_heading level1 col3\" >1</th>        <th class=\"col_heading level1 col4\" >0</th>        <th class=\"col_heading level1 col5\" >1</th>        <th class=\"col_heading level1 col6\" >0</th>        <th class=\"col_heading level1 col7\" >1</th>        <th class=\"col_heading level1 col8\" >0</th>        <th class=\"col_heading level1 col9\" >0</th>        <th class=\"col_heading level1 col10\" >1</th>        <th class=\"col_heading level1 col11\" >0</th>    </tr>    <tr>        <th class=\"index_name level0\" >Pclass</th>        <th class=\"blank\" ></th>        <th class=\"blank\" ></th>        <th class=\"blank\" ></th>        <th class=\"blank\" ></th>        <th class=\"blank\" ></th>        <th class=\"blank\" ></th>        <th class=\"blank\" ></th>        <th class=\"blank\" ></th>        <th class=\"blank\" ></th>        <th class=\"blank\" ></th>        <th class=\"blank\" ></th>        <th class=\"blank\" ></th>    </tr></thead><tbody>\n",
       "                <tr>\n",
       "                        <th id=\"T_952b8fba_b626_11eb_9afa_1831bf4eb6f5level0_row0\" class=\"row_heading level0 row0\" >1</th>\n",
       "                        <td id=\"T_952b8fba_b626_11eb_9afa_1831bf4eb6f5row0_col0\" class=\"data row0 col0\" >64</td>\n",
       "                        <td id=\"T_952b8fba_b626_11eb_9afa_1831bf4eb6f5row0_col1\" class=\"data row0 col1\" >99</td>\n",
       "                        <td id=\"T_952b8fba_b626_11eb_9afa_1831bf4eb6f5row0_col2\" class=\"data row0 col2\" >10</td>\n",
       "                        <td id=\"T_952b8fba_b626_11eb_9afa_1831bf4eb6f5row0_col3\" class=\"data row0 col3\" >21</td>\n",
       "                        <td id=\"T_952b8fba_b626_11eb_9afa_1831bf4eb6f5row0_col4\" class=\"data row0 col4\" >5</td>\n",
       "                        <td id=\"T_952b8fba_b626_11eb_9afa_1831bf4eb6f5row0_col5\" class=\"data row0 col5\" >16</td>\n",
       "                        <td id=\"T_952b8fba_b626_11eb_9afa_1831bf4eb6f5row0_col6\" class=\"data row0 col6\" >0</td>\n",
       "                        <td id=\"T_952b8fba_b626_11eb_9afa_1831bf4eb6f5row0_col7\" class=\"data row0 col7\" >0</td>\n",
       "                        <td id=\"T_952b8fba_b626_11eb_9afa_1831bf4eb6f5row0_col8\" class=\"data row0 col8\" >1</td>\n",
       "                        <td id=\"T_952b8fba_b626_11eb_9afa_1831bf4eb6f5row0_col9\" class=\"data row0 col9\" >0</td>\n",
       "                        <td id=\"T_952b8fba_b626_11eb_9afa_1831bf4eb6f5row0_col10\" class=\"data row0 col10\" >0</td>\n",
       "                        <td id=\"T_952b8fba_b626_11eb_9afa_1831bf4eb6f5row0_col11\" class=\"data row0 col11\" >0</td>\n",
       "            </tr>\n",
       "            <tr>\n",
       "                        <th id=\"T_952b8fba_b626_11eb_9afa_1831bf4eb6f5level0_row1\" class=\"row_heading level0 row1\" >2</th>\n",
       "                        <td id=\"T_952b8fba_b626_11eb_9afa_1831bf4eb6f5row1_col0\" class=\"data row1 col0\" >86</td>\n",
       "                        <td id=\"T_952b8fba_b626_11eb_9afa_1831bf4eb6f5row1_col1\" class=\"data row1 col1\" >48</td>\n",
       "                        <td id=\"T_952b8fba_b626_11eb_9afa_1831bf4eb6f5row1_col2\" class=\"data row1 col2\" >8</td>\n",
       "                        <td id=\"T_952b8fba_b626_11eb_9afa_1831bf4eb6f5row1_col3\" class=\"data row1 col3\" >24</td>\n",
       "                        <td id=\"T_952b8fba_b626_11eb_9afa_1831bf4eb6f5row1_col4\" class=\"data row1 col4\" >3</td>\n",
       "                        <td id=\"T_952b8fba_b626_11eb_9afa_1831bf4eb6f5row1_col5\" class=\"data row1 col5\" >13</td>\n",
       "                        <td id=\"T_952b8fba_b626_11eb_9afa_1831bf4eb6f5row1_col6\" class=\"data row1 col6\" >0</td>\n",
       "                        <td id=\"T_952b8fba_b626_11eb_9afa_1831bf4eb6f5row1_col7\" class=\"data row1 col7\" >2</td>\n",
       "                        <td id=\"T_952b8fba_b626_11eb_9afa_1831bf4eb6f5row1_col8\" class=\"data row1 col8\" >0</td>\n",
       "                        <td id=\"T_952b8fba_b626_11eb_9afa_1831bf4eb6f5row1_col9\" class=\"data row1 col9\" >0</td>\n",
       "                        <td id=\"T_952b8fba_b626_11eb_9afa_1831bf4eb6f5row1_col10\" class=\"data row1 col10\" >0</td>\n",
       "                        <td id=\"T_952b8fba_b626_11eb_9afa_1831bf4eb6f5row1_col11\" class=\"data row1 col11\" >0</td>\n",
       "            </tr>\n",
       "            <tr>\n",
       "                        <th id=\"T_952b8fba_b626_11eb_9afa_1831bf4eb6f5level0_row2\" class=\"row_heading level0 row2\" >3</th>\n",
       "                        <td id=\"T_952b8fba_b626_11eb_9afa_1831bf4eb6f5row2_col0\" class=\"data row2 col0\" >295</td>\n",
       "                        <td id=\"T_952b8fba_b626_11eb_9afa_1831bf4eb6f5row2_col1\" class=\"data row2 col1\" >86</td>\n",
       "                        <td id=\"T_952b8fba_b626_11eb_9afa_1831bf4eb6f5row2_col2\" class=\"data row2 col2\" >35</td>\n",
       "                        <td id=\"T_952b8fba_b626_11eb_9afa_1831bf4eb6f5row2_col3\" class=\"data row2 col3\" >20</td>\n",
       "                        <td id=\"T_952b8fba_b626_11eb_9afa_1831bf4eb6f5row2_col4\" class=\"data row2 col4\" >32</td>\n",
       "                        <td id=\"T_952b8fba_b626_11eb_9afa_1831bf4eb6f5row2_col5\" class=\"data row2 col5\" >11</td>\n",
       "                        <td id=\"T_952b8fba_b626_11eb_9afa_1831bf4eb6f5row2_col6\" class=\"data row2 col6\" >2</td>\n",
       "                        <td id=\"T_952b8fba_b626_11eb_9afa_1831bf4eb6f5row2_col7\" class=\"data row2 col7\" >1</td>\n",
       "                        <td id=\"T_952b8fba_b626_11eb_9afa_1831bf4eb6f5row2_col8\" class=\"data row2 col8\" >3</td>\n",
       "                        <td id=\"T_952b8fba_b626_11eb_9afa_1831bf4eb6f5row2_col9\" class=\"data row2 col9\" >4</td>\n",
       "                        <td id=\"T_952b8fba_b626_11eb_9afa_1831bf4eb6f5row2_col10\" class=\"data row2 col10\" >1</td>\n",
       "                        <td id=\"T_952b8fba_b626_11eb_9afa_1831bf4eb6f5row2_col11\" class=\"data row2 col11\" >1</td>\n",
       "            </tr>\n",
       "    </tbody></table>"
      ],
      "text/plain": [
       "<pandas.io.formats.style.Styler at 0x29c388c3a30>"
      ]
     },
     "execution_count": 105,
     "metadata": {},
     "output_type": "execute_result"
    }
   ],
   "source": [
    "pd.crosstab(train.Pclass,[train.Parch,train.Survived]).style.background_gradient(cmap='Blues')"
   ]
  },
  {
   "cell_type": "code",
   "execution_count": 106,
   "metadata": {},
   "outputs": [],
   "source": [
    "#Sibsp와 Parch를 하나의 가족사이즈라는 새로운 특성으로 취급\n",
    "train['Family_Size']=train['Parch']+train['SibSp']+1"
   ]
  },
  {
   "cell_type": "code",
   "execution_count": 107,
   "metadata": {
    "scrolled": true
   },
   "outputs": [
    {
     "data": {
      "image/png": "[encoded data removed]",
      "text/plain": [
       "<Figure size 432x288 with 1 Axes>"
      ]
     },
     "metadata": {
      "needs_background": "light"
     },
     "output_type": "display_data"
    }
   ],
   "source": [
    "sns.countplot('Family_Size',data=train)\n",
    "plt.title(\"타이타닉에 승선한 가족들\")\n",
    "plt.show()"
   ]
  },
  {
   "cell_type": "code",
   "execution_count": 108,
   "metadata": {},
   "outputs": [
    {
     "data": {
      "image/png": "[encoded data removed]",
      "text/plain": [
       "<Figure size 432x288 with 1 Axes>"
      ]
     },
     "metadata": {
      "needs_background": "light"
     },
     "output_type": "display_data"
    }
   ],
   "source": [
    "sns.countplot('Family_Size',hue=\"Survived\",data=train)\n",
    "plt.show()"
   ]
  },
  {
   "cell_type": "code",
   "execution_count": 109,
   "metadata": {},
   "outputs": [],
   "source": [
    "#간단하게 남 / 여 는 0,1 로 대체\n",
    "# EMbarked 는 각각 0,1,2로 대체\n",
    "train['Sex'].replace(['male','female'],[0,1],inplace=True)\n",
    "train['Embarked'].replace(['S','C','Q'],[0,1,2],inplace=True)"
   ]
  },
  {
   "cell_type": "code",
   "execution_count": 110,
   "metadata": {},
   "outputs": [],
   "source": [
    "#일단 결측치가 많은 Age,Cabin은 제외하고 정확도를 측정해보자.\n",
    "X = train.drop(['Name','Age','Ticket','Fare','Cabin','PassengerId','Survived'],axis=1)\n",
    "y = train['Survived']"
   ]
  },
  {
   "cell_type": "code",
   "execution_count": 111,
   "metadata": {},
   "outputs": [
    {
     "data": {
      "text/html": [
       "<div>\n",
       "<style scoped>\n",
       "    .dataframe tbody tr th:only-of-type {\n",
       "        vertical-align: middle;\n",
       "    }\n",
       "\n",
       "    .dataframe tbody tr th {\n",
       "        vertical-align: top;\n",
       "    }\n",
       "\n",
       "    .dataframe thead th {\n",
       "        text-align: right;\n",
       "    }\n",
       "</style>\n",
       "<table border=\"1\" class=\"dataframe\">\n",
       "  <thead>\n",
       "    <tr style=\"text-align: right;\">\n",
       "      <th></th>\n",
       "      <th>Pclass</th>\n",
       "      <th>Sex</th>\n",
       "      <th>SibSp</th>\n",
       "      <th>Parch</th>\n",
       "      <th>Embarked</th>\n",
       "      <th>Family_Size</th>\n",
       "    </tr>\n",
       "  </thead>\n",
       "  <tbody>\n",
       "    <tr>\n",
       "      <th>0</th>\n",
       "      <td>3</td>\n",
       "      <td>0</td>\n",
       "      <td>1</td>\n",
       "      <td>0</td>\n",
       "      <td>0</td>\n",
       "      <td>2</td>\n",
       "    </tr>\n",
       "    <tr>\n",
       "      <th>1</th>\n",
       "      <td>1</td>\n",
       "      <td>1</td>\n",
       "      <td>1</td>\n",
       "      <td>0</td>\n",
       "      <td>1</td>\n",
       "      <td>2</td>\n",
       "    </tr>\n",
       "    <tr>\n",
       "      <th>2</th>\n",
       "      <td>3</td>\n",
       "      <td>1</td>\n",
       "      <td>0</td>\n",
       "      <td>0</td>\n",
       "      <td>0</td>\n",
       "      <td>1</td>\n",
       "    </tr>\n",
       "    <tr>\n",
       "      <th>3</th>\n",
       "      <td>1</td>\n",
       "      <td>1</td>\n",
       "      <td>1</td>\n",
       "      <td>0</td>\n",
       "      <td>0</td>\n",
       "      <td>2</td>\n",
       "    </tr>\n",
       "    <tr>\n",
       "      <th>4</th>\n",
       "      <td>3</td>\n",
       "      <td>0</td>\n",
       "      <td>0</td>\n",
       "      <td>0</td>\n",
       "      <td>0</td>\n",
       "      <td>1</td>\n",
       "    </tr>\n",
       "  </tbody>\n",
       "</table>\n",
       "</div>"
      ],
      "text/plain": [
       "   Pclass  Sex  SibSp  Parch  Embarked  Family_Size\n",
       "0       3    0      1      0         0            2\n",
       "1       1    1      1      0         1            2\n",
       "2       3    1      0      0         0            1\n",
       "3       1    1      1      0         0            2\n",
       "4       3    0      0      0         0            1"
      ]
     },
     "execution_count": 111,
     "metadata": {},
     "output_type": "execute_result"
    }
   ],
   "source": [
    "#새로 추출한 데이터 확인\n",
    "X.head(5)"
   ]
  },
  {
   "cell_type": "code",
   "execution_count": 112,
   "metadata": {},
   "outputs": [
    {
     "data": {
      "text/plain": [
       "0    549\n",
       "1    342\n",
       "Name: Survived, dtype: int64"
      ]
     },
     "execution_count": 112,
     "metadata": {},
     "output_type": "execute_result"
    }
   ],
   "source": [
    "#데이터 확인\n",
    "y.value_counts()"
   ]
  },
  {
   "cell_type": "code",
   "execution_count": 149,
   "metadata": {},
   "outputs": [],
   "source": [
    "#데이터 분류하기\n",
    "#표준 스케일러로 데이터 전처리 해주기\n",
    "X_train,X_test,y_train,y_test = train_test_split(X,y,test_size=0.3, stratify=train['Survived'],random_state=0)\n",
    "scaler = StandardScaler()\n",
    "scaler.fit(X_train)\n",
    "X_train_scaled = scaler.transform(X_train)\n",
    "X_test_scaled = scaler.transform(X_test)"
   ]
  },
  {
   "cell_type": "code",
   "execution_count": 150,
   "metadata": {},
   "outputs": [
    {
     "name": "stdout",
     "output_type": "stream",
     "text": [
      "k최근접 이웃 정확도: 0.799\n"
     ]
    }
   ],
   "source": [
    "#1 K이웃\n",
    "kclf = KNeighborsClassifier(n_neighbors=3)\n",
    "kclf.fit(X_train_scaled,y_train)\n",
    "print(\"k최근접 이웃 정확도: {:.3f}\".format(kclf.score(X_test_scaled,y_test)))"
   ]
  },
  {
   "cell_type": "code",
   "execution_count": 151,
   "metadata": {},
   "outputs": [
    {
     "name": "stdout",
     "output_type": "stream",
     "text": [
      "LOG의 정확도:0.802\n"
     ]
    }
   ],
   "source": [
    "#로지스틱\n",
    "log = LogisticRegression()\n",
    "log.fit(X_train_scaled, y_train)\n",
    "print(\"LOG의 정확도:{:.3f}\".format(log.score(X_test_scaled,y_test)))"
   ]
  },
  {
   "cell_type": "code",
   "execution_count": 152,
   "metadata": {},
   "outputs": [
    {
     "name": "stdout",
     "output_type": "stream",
     "text": [
      "가우시안모델의 정확도:0.802\n"
     ]
    }
   ],
   "source": [
    "#가우시안 NB\n",
    "gnb=GaussianNB()\n",
    "gnb.fit(X_train_scaled,y_train)\n",
    "print(\"가우시안모델의 정확도:{:.3f}\".format(gnb.score(X_test_scaled,y_test)))"
   ]
  },
  {
   "cell_type": "code",
   "execution_count": 153,
   "metadata": {},
   "outputs": [
    {
     "name": "stdout",
     "output_type": "stream",
     "text": [
      "결정트리모델의 정확도: 0.776\n"
     ]
    }
   ],
   "source": [
    "dtc = tree.DecisionTreeClassifier()\n",
    "dtc.fit(X_train_scaled, y_train)\n",
    "print(\"결정트리모델의 정확도: {:.3f}\".format(dtc.score(X_test_scaled,y_test)))"
   ]
  },
  {
   "cell_type": "code",
   "execution_count": 154,
   "metadata": {},
   "outputs": [
    {
     "name": "stdout",
     "output_type": "stream",
     "text": [
      "랜덤 포레스트모델 정확도: 0.813\n"
     ]
    }
   ],
   "source": [
    "rfc = RandomForestClassifier(max_depth=5, n_estimators=1000) \n",
    "rfc.fit(X_train_scaled, y_train)\n",
    "print(\"랜덤 포레스트모델 정확도: {:.3f}\".format(rfc.score(X_test_scaled,y_test)))"
   ]
  },
  {
   "cell_type": "code",
   "execution_count": 155,
   "metadata": {},
   "outputs": [
    {
     "name": "stdout",
     "output_type": "stream",
     "text": [
      "그라디언트 부스트모델 정확도:0.787\n"
     ]
    }
   ],
   "source": [
    "GBC = GradientBoostingClassifier(max_depth=5, n_estimators=100, learning_rate=0.1, random_state=0)\n",
    "GBC.fit(X_train_scaled, y_train)\n",
    "print(\"그라디언트 부스트모델 정확도:{:.3f}\".format(GBC.score(X_test_scaled,y_test)))"
   ]
  },
  {
   "cell_type": "code",
   "execution_count": null,
   "metadata": {},
   "outputs": [],
   "source": [
    "from sklearn.ensemble import BaggingClassifier\n",
    "model=BaggingClassifier(base_estimator=KNeighborsClassifier(n_neighbors=3),random_state=0,n_estimators=700)\n",
    "model.fit(train_X,train_Y)\n",
    "prediction=model.predict(test_X)\n",
    "print('The accuracy for bagged KNN is:',metrics.accuracy_score(prediction,test_Y))\n",
    "result=cross_val_score(model,X,Y,cv=10,scoring='accuracy')\n",
    "print('The cross validated score for bagged KNN is:',result.mean())"
   ]
  },
  {
   "cell_type": "code",
   "execution_count": 157,
   "metadata": {},
   "outputs": [
    {
     "name": "stdout",
     "output_type": "stream",
     "text": [
      "Adaboost모델 정확도: 0.832\n"
     ]
    }
   ],
   "source": [
    "ada=AdaBoostClassifier(n_estimators=200,random_state=0,learning_rate=0.1)\n",
    "ada.fit(X_train_scaled,y_train)\n",
    "print(\"Adaboost모델 정확도: {:.3f}\".format(ada.score(X_test_scaled,y_test)))"
   ]
  },
  {
   "cell_type": "code",
   "execution_count": 158,
   "metadata": {},
   "outputs": [
    {
     "name": "stdout",
     "output_type": "stream",
     "text": [
      "[18:35:42] WARNING: C:/Users/Administrator/workspace/xgboost-win64_release_1.4.0/src/learner.cc:1095: Starting in XGBoost 1.3.0, the default evaluation metric used with the objective 'binary:logistic' was changed from 'error' to 'logloss'. Explicitly set eval_metric if you'd like to restore the old behavior.\n",
      "Xgboost모델 정확도: 0.791\n"
     ]
    }
   ],
   "source": [
    "xgb = XGBClassifier()\n",
    "xgb.fit(X_train_scaled, y_train)\n",
    "print(\"Xgboost모델 정확도: {:.3f}\".format(xgb.score(X_test_scaled,y_test)))"
   ]
  },
  {
   "cell_type": "code",
   "execution_count": 159,
   "metadata": {},
   "outputs": [
    {
     "name": "stdout",
     "output_type": "stream",
     "text": [
      "SVC의 정확도:0.806\n"
     ]
    }
   ],
   "source": [
    "svc=SVC()\n",
    "svc.fit(X_train_scaled,y_train)\n",
    "print(\"SVC의 정확도:{:.3f}\".format(svc.score(X_test_scaled,y_test)))"
   ]
  },
  {
   "cell_type": "code",
   "execution_count": 163,
   "metadata": {},
   "outputs": [
    {
     "name": "stdout",
     "output_type": "stream",
     "text": [
      "MLP의 정확도:0.799\n"
     ]
    }
   ],
   "source": [
    "\n",
    "mlp = MLPClassifier(solver='lbfgs',hidden_layer_sizes=[10],max_iter=1000, random_state =0)\n",
    "mlp.fit(X_train_scaled,y_train)\n",
    "print(\"MLP의 정확도:{:.3f}\".format(mlp.score(X_test_scaled,y_test)))"
   ]
  },
  {
   "cell_type": "code",
   "execution_count": null,
   "metadata": {},
   "outputs": [],
   "source": [
    "#할일\n",
    "#나이브 베이즈 분류기, 결정트리의 앙상블, 배깅,엑스트라 트리,에이다부스트 XGBoost ,신경망으로도 해보기\n",
    "#데이터 전처리, 차원축소 등도 해보기\n",
    "#검증은 교차검증까지만\n",
    "#ppt만들기+보고서만들기\n"
   ]
  }
 ],
 "metadata": {
  "kernelspec": {
   "display_name": "Python 3",
   "language": "python",
   "name": "python3"
  },
  "language_info": {
   "codemirror_mode": {
    "name": "ipython",
    "version": 3
   },
   "file_extension": ".py",
   "mimetype": "text/x-python",
   "name": "python",
   "nbconvert_exporter": "python",
   "pygments_lexer": "ipython3",
   "version": "3.8.5"
  }
 },
 "nbformat": 4,
 "nbformat_minor": 4
}
